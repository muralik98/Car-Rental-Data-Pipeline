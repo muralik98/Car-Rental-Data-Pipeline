{
 "cells": [
  {
   "cell_type": "code",
   "execution_count": 0,
   "metadata": {
    "application/vnd.databricks.v1+cell": {
     "cellMetadata": {
      "byteLimit": 2048000,
      "rowLimit": 10000
     },
     "inputWidgets": {},
     "nuid": "b2fc1f65-920d-4c58-8032-0537fc4c7632",
     "showTitle": false,
     "tableResultSettingsMap": {},
     "title": ""
    }
   },
   "outputs": [],
   "source": [
    "from pyspark.sql.functions import col, lit, current_timestamp, sum as _sum\n",
    "from delta.tables import DeltaTable\n",
    "from pydeequ.checks import Check, CheckLevel\n",
    "from pydeequ.verification import VerificationSuite, VerificationResult\n",
    "import os"
   ]
  },
  {
   "cell_type": "code",
   "execution_count": 0,
   "metadata": {
    "application/vnd.databricks.v1+cell": {
     "cellMetadata": {
      "byteLimit": 2048000,
      "rowLimit": 10000
     },
     "inputWidgets": {},
     "nuid": "0a315320-e087-47f2-bb4c-b116f158dcec",
     "showTitle": false,
     "tableResultSettingsMap": {},
     "title": ""
    }
   },
   "outputs": [
    {
     "name": "stdout",
     "output_type": "stream",
     "text": [
      "3.5.0\n"
     ]
    }
   ],
   "source": [
    "# Print the version of Spark currently being used in the environment\n",
    "print(os.environ['SPARK_VERSION'])\n",
    "\n",
    "# Retrieve job parameter 'current_date' from Databricks widgets (user input or runtime parameter)\n",
    "# This is a flexible way to pass dynamic parameters during job execution\n",
    "# Example: Widgets are often set via dbutils.widgets.text(\"current_date\", \"20241123\")\n",
    "#date_str = dbutils.widgets.get(\"current_date\")\n",
    "\n",
    "date_str = dbutils.widgets.get(\"current_date\")  # Fetch 'current_date' from widget\n",
    "#date_str = \"20241123\"  # Hardcoded fallback for testing purposes (commented out)\n",
    "\n",
    "# Define the file path dynamically based on the input date parameter\n",
    "# The file naming convention is assumed to be zoom_car_bookings_yyyymmdd.json\n",
    "booking_data = f\"dbfs:/FileStore/zoomcar/bookings/zoom_car_bookings_{date_str}.json\"\n",
    "\n",
    "# Check if the file exists in the given path using dbutils.fs.ls\n",
    "# If the file does not exist, an exception will be raised\n",
    "try:\n",
    "    dbutils.fs.ls(booking_data)  # List files in the specified path to validate existence\n",
    "except Exception as e:\n",
    "    # Raise a FileNotFoundError with a clear message if the file is not found\n",
    "    raise FileNotFoundError(f\"File {booking_data} not found!\") from e\n"
   ]
  },
  {
   "cell_type": "code",
   "execution_count": 0,
   "metadata": {
    "application/vnd.databricks.v1+cell": {
     "cellMetadata": {
      "byteLimit": 2048000,
      "rowLimit": 10000
     },
     "inputWidgets": {},
     "nuid": "f11b2bd1-be1f-4d40-8757-0ef254c63013",
     "showTitle": false,
     "tableResultSettingsMap": {},
     "title": ""
    }
   },
   "outputs": [
    {
     "name": "stdout",
     "output_type": "stream",
     "text": [
      "root\n",
      " |-- booking_date: string (nullable = true)\n",
      " |-- booking_id: string (nullable = true)\n",
      " |-- car_id: string (nullable = true)\n",
      " |-- customer_id: string (nullable = true)\n",
      " |-- end_time: string (nullable = true)\n",
      " |-- start_time: string (nullable = true)\n",
      " |-- status: string (nullable = true)\n",
      " |-- total_amount: double (nullable = true)\n",
      "\n"
     ]
    },
    {
     "data": {
      "text/plain": [
       "'dbfs:/FileStore/zoomcar/bookings/zoom_car_bookings_20241123.json'"
      ]
     },
     "metadata": {},
     "output_type": "display_data"
    }
   ],
   "source": [
    "# Read booking data\n",
    "booking_df = spark.read \\\n",
    "    .format(\"json\") \\\n",
    "    .option(\"header\", \"true\") \\\n",
    "    .option(\"inferSchema\", \"true\") \\\n",
    "    .option(\"quote\", \"\\\"\") \\\n",
    "    .option(\"multiLine\", \"true\") \\\n",
    "    .load(booking_data)\n",
    "\n",
    "booking_df.printSchema()\n",
    "display(booking_data)\n"
   ]
  },
  {
   "cell_type": "code",
   "execution_count": 0,
   "metadata": {
    "application/vnd.databricks.v1+cell": {
     "cellMetadata": {
      "byteLimit": 2048000,
      "rowLimit": 10000
     },
     "inputWidgets": {},
     "nuid": "0849b494-1116-4cfc-a762-ba850331ed37",
     "showTitle": false,
     "tableResultSettingsMap": {},
     "title": ""
    }
   },
   "outputs": [],
   "source": [
    "from pyspark.sql.functions import col, to_timestamp, to_date  \n",
    "\n",
    "# Drop rows with null values in critical columns: booking_id, customer_id, car_id, and booking_date\n",
    "booking_df = booking_df.na.drop(subset=[\"booking_id\", \"customer_id\", \"car_id\", \"booking_date\"])\n",
    "\n",
    "# Define allowed statuses for bookings\n",
    "allowed_statuses = [\"completed\", \"cancelled\", \"pending\"]\n",
    "\n",
    "# Filter rows where the 'status' column contains only allowed statuses\n",
    "booking_df = booking_df.filter(col(\"status\").isin(allowed_statuses))\n",
    "\n",
    "# Convert the 'booking_date' column to date format (yyyy-MM-dd)\n",
    "booking_df = booking_df.withColumn(\"booking_date\", to_date(col(\"booking_date\"), \"yyyy-MM-dd\"))\n",
    "\n",
    "# Convert 'start_time' and 'end_time' columns to timestamp format with the given pattern\n",
    "booking_df = booking_df.withColumn(\"start_time\", to_timestamp(col(\"start_time\"), \"yyyy-MM-dd'T'HH:mm:ss'Z'\")).withColumn(\"end_time\", to_timestamp(col(\"end_time\"), \"yyyy-MM-dd'T'HH:mm:ss'Z'\"))\n",
    "\n",
    "# Filter out rows where 'booking_date' is null after conversion\n",
    "booking_df = booking_df.filter(col(\"booking_date\").isNotNull())"
   ]
  },
  {
   "cell_type": "code",
   "execution_count": 0,
   "metadata": {
    "application/vnd.databricks.v1+cell": {
     "cellMetadata": {
      "byteLimit": 2048000,
      "rowLimit": 10000
     },
     "inputWidgets": {},
     "nuid": "7738f8bf-86b0-497c-bfd2-705c968af8c7",
     "showTitle": false,
     "tableResultSettingsMap": {},
     "title": ""
    }
   },
   "outputs": [
    {
     "data": {
      "text/html": [
       "<style scoped>\n",
       "  .table-result-container {\n",
       "    max-height: 300px;\n",
       "    overflow: auto;\n",
       "  }\n",
       "  table, th, td {\n",
       "    border: 1px solid black;\n",
       "    border-collapse: collapse;\n",
       "  }\n",
       "  th, td {\n",
       "    padding: 5px;\n",
       "  }\n",
       "  th {\n",
       "    text-align: left;\n",
       "  }\n",
       "</style><div class='table-result-container'><table class='table-result'><thead style='background-color: white'><tr><th>booking_date</th><th>booking_id</th><th>car_id</th><th>customer_id</th><th>end_time</th><th>start_time</th><th>status</th><th>total_amount</th></tr></thead><tbody><tr><td>2024-07-09</td><td>B001</td><td>CAR244</td><td>C001</td><td>2024-07-09T04:41:44Z</td><td>2024-07-09T03:41:44Z</td><td>completed</td><td>57.83</td></tr><tr><td>2024-07-12</td><td>B002</td><td>CAR432</td><td>C002</td><td>2024-07-13T01:10:58Z</td><td>2024-07-12T19:10:58Z</td><td>completed</td><td>159.36</td></tr><tr><td>2024-04-23</td><td>B003</td><td>CAR443</td><td>C003</td><td>2024-04-23T09:54:58Z</td><td>2024-04-23T04:54:58Z</td><td>completed</td><td>59.16</td></tr><tr><td>2024-11-13</td><td>B004</td><td>CAR524</td><td>C004</td><td>2024-11-13T09:55:57Z</td><td>2024-11-13T07:55:57Z</td><td>cancelled</td><td>176.5</td></tr><tr><td>2024-10-18</td><td>B005</td><td>CAR414</td><td>C005</td><td>2024-10-19T01:07:47Z</td><td>2024-10-18T21:07:47Z</td><td>cancelled</td><td>129.11</td></tr><tr><td>2024-11-06</td><td>B006</td><td>CAR591</td><td>C006</td><td>2024-11-07T05:27:53Z</td><td>2024-11-06T22:27:53Z</td><td>completed</td><td>152.93</td></tr><tr><td>2024-05-15</td><td>B007</td><td>CAR183</td><td>C007</td><td>2024-05-15T12:54:28Z</td><td>2024-05-15T09:54:28Z</td><td>pending</td><td>196.48</td></tr><tr><td>2024-09-21</td><td>B008</td><td>CAR985</td><td>C008</td><td>2024-09-21T11:26:24Z</td><td>2024-09-21T05:26:24Z</td><td>completed</td><td>79.75</td></tr><tr><td>2024-05-02</td><td>B009</td><td>CAR646</td><td>C009</td><td>2024-05-02T15:01:22Z</td><td>2024-05-02T13:01:22Z</td><td>pending</td><td>105.63</td></tr><tr><td>2024-03-10</td><td>B010</td><td>CAR811</td><td>C010</td><td>2024-03-10T14:12:42Z</td><td>2024-03-10T06:12:42Z</td><td>completed</td><td>75.15</td></tr><tr><td>2024-04-15</td><td>B011</td><td>CAR693</td><td>C011</td><td>2024-04-15T15:48:04Z</td><td>2024-04-15T08:48:04Z</td><td>completed</td><td>147.25</td></tr><tr><td>2024-08-26</td><td>B012</td><td>CAR459</td><td>C012</td><td>2024-08-26T20:28:21Z</td><td>2024-08-26T18:28:21Z</td><td>cancelled</td><td>169.71</td></tr><tr><td>2023-12-08</td><td>B013</td><td>CAR512</td><td>C013</td><td>2023-12-08T23:34:07Z</td><td>2023-12-08T21:34:07Z</td><td>pending</td><td>97.28</td></tr><tr><td>2023-12-03</td><td>B014</td><td>CAR919</td><td>C014</td><td>2023-12-03T13:24:57Z</td><td>2023-12-03T05:24:57Z</td><td>cancelled</td><td>141.1</td></tr><tr><td>2024-04-04</td><td>B015</td><td>CAR218</td><td>C015</td><td>2024-04-04T12:21:12Z</td><td>2024-04-04T09:21:12Z</td><td>cancelled</td><td>101.24</td></tr><tr><td>2024-10-26</td><td>B016</td><td>CAR907</td><td>C016</td><td>2024-10-27T07:53:37Z</td><td>2024-10-26T23:53:37Z</td><td>cancelled</td><td>64.01</td></tr><tr><td>2024-06-02</td><td>B017</td><td>CAR548</td><td>C017</td><td>2024-06-03T00:31:36Z</td><td>2024-06-02T16:31:36Z</td><td>pending</td><td>196.85</td></tr><tr><td>2024-08-03</td><td>B018</td><td>CAR540</td><td>C018</td><td>2024-08-03T21:18:25Z</td><td>2024-08-03T14:18:25Z</td><td>pending</td><td>55.09</td></tr><tr><td>2024-09-28</td><td>B019</td><td>CAR902</td><td>C019</td><td>2024-09-28T12:22:59Z</td><td>2024-09-28T06:22:59Z</td><td>completed</td><td>127.4</td></tr><tr><td>2024-07-12</td><td>B020</td><td>CAR266</td><td>C020</td><td>2024-07-12T18:52:12Z</td><td>2024-07-12T11:52:12Z</td><td>completed</td><td>173.26</td></tr><tr><td>2024-03-28</td><td>B021</td><td>CAR791</td><td>C021</td><td>2024-03-29T01:52:44Z</td><td>2024-03-28T19:52:44Z</td><td>pending</td><td>105.98</td></tr><tr><td>2023-11-23</td><td>B022</td><td>CAR268</td><td>C022</td><td>2023-11-24T00:46:15Z</td><td>2023-11-23T19:46:15Z</td><td>completed</td><td>63.68</td></tr><tr><td>2023-12-28</td><td>B023</td><td>CAR679</td><td>C023</td><td>2023-12-29T06:11:13Z</td><td>2023-12-28T23:11:13Z</td><td>cancelled</td><td>115.77</td></tr><tr><td>2024-11-14</td><td>B024</td><td>CAR186</td><td>C024</td><td>2024-11-14T19:29:58Z</td><td>2024-11-14T18:29:58Z</td><td>cancelled</td><td>167.91</td></tr><tr><td>2024-08-12</td><td>B025</td><td>CAR599</td><td>C025</td><td>2024-08-12T21:37:36Z</td><td>2024-08-12T19:37:36Z</td><td>pending</td><td>199.66</td></tr><tr><td>2024-02-25</td><td>B026</td><td>CAR729</td><td>C026</td><td>2024-02-26T03:50:16Z</td><td>2024-02-25T23:50:16Z</td><td>cancelled</td><td>160.16</td></tr><tr><td>2024-06-06</td><td>B027</td><td>CAR548</td><td>C027</td><td>2024-06-07T00:13:16Z</td><td>2024-06-06T22:13:16Z</td><td>pending</td><td>177.96</td></tr><tr><td>2024-06-20</td><td>B028</td><td>CAR427</td><td>C028</td><td>2024-06-21T00:28:19Z</td><td>2024-06-20T16:28:19Z</td><td>cancelled</td><td>99.47</td></tr><tr><td>2024-08-02</td><td>B029</td><td>CAR562</td><td>C029</td><td>2024-08-02T11:26:50Z</td><td>2024-08-02T07:26:50Z</td><td>cancelled</td><td>154.44</td></tr><tr><td>2024-09-04</td><td>B030</td><td>CAR701</td><td>C030</td><td>2024-09-04T09:41:22Z</td><td>2024-09-04T02:41:22Z</td><td>cancelled</td><td>183.36</td></tr><tr><td>2024-06-24</td><td>B031</td><td>CAR352</td><td>C031</td><td>2024-06-24T19:34:40Z</td><td>2024-06-24T14:34:40Z</td><td>pending</td><td>95.92</td></tr><tr><td>2024-11-01</td><td>B032</td><td>CAR328</td><td>C032</td><td>2024-11-02T00:22:55Z</td><td>2024-11-01T20:22:55Z</td><td>pending</td><td>111.29</td></tr><tr><td>2024-07-15</td><td>B033</td><td>CAR981</td><td>C033</td><td>2024-07-15T08:14:01Z</td><td>2024-07-15T00:14:01Z</td><td>cancelled</td><td>128.65</td></tr><tr><td>2024-03-22</td><td>B034</td><td>CAR710</td><td>C034</td><td>2024-03-23T05:51:13Z</td><td>2024-03-22T21:51:13Z</td><td>pending</td><td>116.39</td></tr><tr><td>2023-12-14</td><td>B035</td><td>CAR588</td><td>C035</td><td>2023-12-14T07:31:28Z</td><td>2023-12-14T01:31:28Z</td><td>pending</td><td>184.04</td></tr><tr><td>2024-06-07</td><td>B036</td><td>CAR439</td><td>C036</td><td>2024-06-07T02:10:37Z</td><td>2024-06-07T00:10:37Z</td><td>cancelled</td><td>155.74</td></tr><tr><td>2024-01-01</td><td>B037</td><td>CAR648</td><td>C037</td><td>2024-01-01T10:53:50Z</td><td>2024-01-01T02:53:50Z</td><td>pending</td><td>119.11</td></tr><tr><td>2024-10-27</td><td>B038</td><td>CAR699</td><td>C038</td><td>2024-10-27T18:39:03Z</td><td>2024-10-27T11:39:03Z</td><td>pending</td><td>88.27</td></tr><tr><td>2024-07-02</td><td>B039</td><td>CAR829</td><td>C039</td><td>2024-07-02T16:03:12Z</td><td>2024-07-02T14:03:12Z</td><td>cancelled</td><td>92.75</td></tr><tr><td>2024-11-12</td><td>B040</td><td>CAR375</td><td>C040</td><td>2024-11-12T14:10:07Z</td><td>2024-11-12T08:10:07Z</td><td>cancelled</td><td>69.52</td></tr><tr><td>2024-02-25</td><td>B041</td><td>CAR389</td><td>C041</td><td>2024-02-25T21:50:54Z</td><td>2024-02-25T16:50:54Z</td><td>cancelled</td><td>84.27</td></tr><tr><td>2024-03-15</td><td>B042</td><td>CAR160</td><td>C042</td><td>2024-03-15T14:58:01Z</td><td>2024-03-15T07:58:01Z</td><td>pending</td><td>59.02</td></tr><tr><td>2024-05-09</td><td>B043</td><td>CAR689</td><td>C043</td><td>2024-05-09T20:02:28Z</td><td>2024-05-09T13:02:28Z</td><td>completed</td><td>193.16</td></tr><tr><td>2024-08-25</td><td>B044</td><td>CAR774</td><td>C044</td><td>2024-08-25T16:59:24Z</td><td>2024-08-25T08:59:24Z</td><td>completed</td><td>50.84</td></tr><tr><td>2024-03-26</td><td>B045</td><td>CAR106</td><td>C045</td><td>2024-03-27T02:19:23Z</td><td>2024-03-26T21:19:23Z</td><td>pending</td><td>55.28</td></tr><tr><td>2024-04-27</td><td>B046</td><td>CAR885</td><td>C046</td><td>2024-04-27T16:40:19Z</td><td>2024-04-27T14:40:19Z</td><td>completed</td><td>75.93</td></tr><tr><td>2024-04-25</td><td>B047</td><td>CAR948</td><td>C047</td><td>2024-04-25T19:51:14Z</td><td>2024-04-25T16:51:14Z</td><td>completed</td><td>84.65</td></tr><tr><td>2024-10-04</td><td>B048</td><td>CAR146</td><td>C048</td><td>2024-10-04T21:02:26Z</td><td>2024-10-04T15:02:26Z</td><td>completed</td><td>110.31</td></tr><tr><td>2024-03-17</td><td>B049</td><td>CAR479</td><td>C049</td><td>2024-03-17T22:41:34Z</td><td>2024-03-17T16:41:34Z</td><td>cancelled</td><td>129.12</td></tr><tr><td>2024-09-14</td><td>B050</td><td>CAR388</td><td>C050</td><td>2024-09-14T02:10:52Z</td><td>2024-09-14T00:10:52Z</td><td>pending</td><td>168.23</td></tr></tbody></table></div>"
      ]
     },
     "metadata": {
      "application/vnd.databricks.v1+output": {
       "addedWidgets": {},
       "aggData": [],
       "aggError": "",
       "aggOverflow": false,
       "aggSchema": [],
       "aggSeriesLimitReached": false,
       "aggType": "",
       "arguments": {},
       "columnCustomDisplayInfos": {},
       "data": [
        [
         "2024-07-09",
         "B001",
         "CAR244",
         "C001",
         "2024-07-09T04:41:44Z",
         "2024-07-09T03:41:44Z",
         "completed",
         57.83
        ],
        [
         "2024-07-12",
         "B002",
         "CAR432",
         "C002",
         "2024-07-13T01:10:58Z",
         "2024-07-12T19:10:58Z",
         "completed",
         159.36
        ],
        [
         "2024-04-23",
         "B003",
         "CAR443",
         "C003",
         "2024-04-23T09:54:58Z",
         "2024-04-23T04:54:58Z",
         "completed",
         59.16
        ],
        [
         "2024-11-13",
         "B004",
         "CAR524",
         "C004",
         "2024-11-13T09:55:57Z",
         "2024-11-13T07:55:57Z",
         "cancelled",
         176.5
        ],
        [
         "2024-10-18",
         "B005",
         "CAR414",
         "C005",
         "2024-10-19T01:07:47Z",
         "2024-10-18T21:07:47Z",
         "cancelled",
         129.11
        ],
        [
         "2024-11-06",
         "B006",
         "CAR591",
         "C006",
         "2024-11-07T05:27:53Z",
         "2024-11-06T22:27:53Z",
         "completed",
         152.93
        ],
        [
         "2024-05-15",
         "B007",
         "CAR183",
         "C007",
         "2024-05-15T12:54:28Z",
         "2024-05-15T09:54:28Z",
         "pending",
         196.48
        ],
        [
         "2024-09-21",
         "B008",
         "CAR985",
         "C008",
         "2024-09-21T11:26:24Z",
         "2024-09-21T05:26:24Z",
         "completed",
         79.75
        ],
        [
         "2024-05-02",
         "B009",
         "CAR646",
         "C009",
         "2024-05-02T15:01:22Z",
         "2024-05-02T13:01:22Z",
         "pending",
         105.63
        ],
        [
         "2024-03-10",
         "B010",
         "CAR811",
         "C010",
         "2024-03-10T14:12:42Z",
         "2024-03-10T06:12:42Z",
         "completed",
         75.15
        ],
        [
         "2024-04-15",
         "B011",
         "CAR693",
         "C011",
         "2024-04-15T15:48:04Z",
         "2024-04-15T08:48:04Z",
         "completed",
         147.25
        ],
        [
         "2024-08-26",
         "B012",
         "CAR459",
         "C012",
         "2024-08-26T20:28:21Z",
         "2024-08-26T18:28:21Z",
         "cancelled",
         169.71
        ],
        [
         "2023-12-08",
         "B013",
         "CAR512",
         "C013",
         "2023-12-08T23:34:07Z",
         "2023-12-08T21:34:07Z",
         "pending",
         97.28
        ],
        [
         "2023-12-03",
         "B014",
         "CAR919",
         "C014",
         "2023-12-03T13:24:57Z",
         "2023-12-03T05:24:57Z",
         "cancelled",
         141.1
        ],
        [
         "2024-04-04",
         "B015",
         "CAR218",
         "C015",
         "2024-04-04T12:21:12Z",
         "2024-04-04T09:21:12Z",
         "cancelled",
         101.24
        ],
        [
         "2024-10-26",
         "B016",
         "CAR907",
         "C016",
         "2024-10-27T07:53:37Z",
         "2024-10-26T23:53:37Z",
         "cancelled",
         64.01
        ],
        [
         "2024-06-02",
         "B017",
         "CAR548",
         "C017",
         "2024-06-03T00:31:36Z",
         "2024-06-02T16:31:36Z",
         "pending",
         196.85
        ],
        [
         "2024-08-03",
         "B018",
         "CAR540",
         "C018",
         "2024-08-03T21:18:25Z",
         "2024-08-03T14:18:25Z",
         "pending",
         55.09
        ],
        [
         "2024-09-28",
         "B019",
         "CAR902",
         "C019",
         "2024-09-28T12:22:59Z",
         "2024-09-28T06:22:59Z",
         "completed",
         127.4
        ],
        [
         "2024-07-12",
         "B020",
         "CAR266",
         "C020",
         "2024-07-12T18:52:12Z",
         "2024-07-12T11:52:12Z",
         "completed",
         173.26
        ],
        [
         "2024-03-28",
         "B021",
         "CAR791",
         "C021",
         "2024-03-29T01:52:44Z",
         "2024-03-28T19:52:44Z",
         "pending",
         105.98
        ],
        [
         "2023-11-23",
         "B022",
         "CAR268",
         "C022",
         "2023-11-24T00:46:15Z",
         "2023-11-23T19:46:15Z",
         "completed",
         63.68
        ],
        [
         "2023-12-28",
         "B023",
         "CAR679",
         "C023",
         "2023-12-29T06:11:13Z",
         "2023-12-28T23:11:13Z",
         "cancelled",
         115.77
        ],
        [
         "2024-11-14",
         "B024",
         "CAR186",
         "C024",
         "2024-11-14T19:29:58Z",
         "2024-11-14T18:29:58Z",
         "cancelled",
         167.91
        ],
        [
         "2024-08-12",
         "B025",
         "CAR599",
         "C025",
         "2024-08-12T21:37:36Z",
         "2024-08-12T19:37:36Z",
         "pending",
         199.66
        ],
        [
         "2024-02-25",
         "B026",
         "CAR729",
         "C026",
         "2024-02-26T03:50:16Z",
         "2024-02-25T23:50:16Z",
         "cancelled",
         160.16
        ],
        [
         "2024-06-06",
         "B027",
         "CAR548",
         "C027",
         "2024-06-07T00:13:16Z",
         "2024-06-06T22:13:16Z",
         "pending",
         177.96
        ],
        [
         "2024-06-20",
         "B028",
         "CAR427",
         "C028",
         "2024-06-21T00:28:19Z",
         "2024-06-20T16:28:19Z",
         "cancelled",
         99.47
        ],
        [
         "2024-08-02",
         "B029",
         "CAR562",
         "C029",
         "2024-08-02T11:26:50Z",
         "2024-08-02T07:26:50Z",
         "cancelled",
         154.44
        ],
        [
         "2024-09-04",
         "B030",
         "CAR701",
         "C030",
         "2024-09-04T09:41:22Z",
         "2024-09-04T02:41:22Z",
         "cancelled",
         183.36
        ],
        [
         "2024-06-24",
         "B031",
         "CAR352",
         "C031",
         "2024-06-24T19:34:40Z",
         "2024-06-24T14:34:40Z",
         "pending",
         95.92
        ],
        [
         "2024-11-01",
         "B032",
         "CAR328",
         "C032",
         "2024-11-02T00:22:55Z",
         "2024-11-01T20:22:55Z",
         "pending",
         111.29
        ],
        [
         "2024-07-15",
         "B033",
         "CAR981",
         "C033",
         "2024-07-15T08:14:01Z",
         "2024-07-15T00:14:01Z",
         "cancelled",
         128.65
        ],
        [
         "2024-03-22",
         "B034",
         "CAR710",
         "C034",
         "2024-03-23T05:51:13Z",
         "2024-03-22T21:51:13Z",
         "pending",
         116.39
        ],
        [
         "2023-12-14",
         "B035",
         "CAR588",
         "C035",
         "2023-12-14T07:31:28Z",
         "2023-12-14T01:31:28Z",
         "pending",
         184.04
        ],
        [
         "2024-06-07",
         "B036",
         "CAR439",
         "C036",
         "2024-06-07T02:10:37Z",
         "2024-06-07T00:10:37Z",
         "cancelled",
         155.74
        ],
        [
         "2024-01-01",
         "B037",
         "CAR648",
         "C037",
         "2024-01-01T10:53:50Z",
         "2024-01-01T02:53:50Z",
         "pending",
         119.11
        ],
        [
         "2024-10-27",
         "B038",
         "CAR699",
         "C038",
         "2024-10-27T18:39:03Z",
         "2024-10-27T11:39:03Z",
         "pending",
         88.27
        ],
        [
         "2024-07-02",
         "B039",
         "CAR829",
         "C039",
         "2024-07-02T16:03:12Z",
         "2024-07-02T14:03:12Z",
         "cancelled",
         92.75
        ],
        [
         "2024-11-12",
         "B040",
         "CAR375",
         "C040",
         "2024-11-12T14:10:07Z",
         "2024-11-12T08:10:07Z",
         "cancelled",
         69.52
        ],
        [
         "2024-02-25",
         "B041",
         "CAR389",
         "C041",
         "2024-02-25T21:50:54Z",
         "2024-02-25T16:50:54Z",
         "cancelled",
         84.27
        ],
        [
         "2024-03-15",
         "B042",
         "CAR160",
         "C042",
         "2024-03-15T14:58:01Z",
         "2024-03-15T07:58:01Z",
         "pending",
         59.02
        ],
        [
         "2024-05-09",
         "B043",
         "CAR689",
         "C043",
         "2024-05-09T20:02:28Z",
         "2024-05-09T13:02:28Z",
         "completed",
         193.16
        ],
        [
         "2024-08-25",
         "B044",
         "CAR774",
         "C044",
         "2024-08-25T16:59:24Z",
         "2024-08-25T08:59:24Z",
         "completed",
         50.84
        ],
        [
         "2024-03-26",
         "B045",
         "CAR106",
         "C045",
         "2024-03-27T02:19:23Z",
         "2024-03-26T21:19:23Z",
         "pending",
         55.28
        ],
        [
         "2024-04-27",
         "B046",
         "CAR885",
         "C046",
         "2024-04-27T16:40:19Z",
         "2024-04-27T14:40:19Z",
         "completed",
         75.93
        ],
        [
         "2024-04-25",
         "B047",
         "CAR948",
         "C047",
         "2024-04-25T19:51:14Z",
         "2024-04-25T16:51:14Z",
         "completed",
         84.65
        ],
        [
         "2024-10-04",
         "B048",
         "CAR146",
         "C048",
         "2024-10-04T21:02:26Z",
         "2024-10-04T15:02:26Z",
         "completed",
         110.31
        ],
        [
         "2024-03-17",
         "B049",
         "CAR479",
         "C049",
         "2024-03-17T22:41:34Z",
         "2024-03-17T16:41:34Z",
         "cancelled",
         129.12
        ],
        [
         "2024-09-14",
         "B050",
         "CAR388",
         "C050",
         "2024-09-14T02:10:52Z",
         "2024-09-14T00:10:52Z",
         "pending",
         168.23
        ]
       ],
       "datasetInfos": [],
       "dbfsResultPath": null,
       "isJsonSchema": true,
       "metadata": {},
       "overflow": false,
       "plotOptions": {
        "customPlotOptions": {},
        "displayType": "table",
        "pivotAggregation": null,
        "pivotColumns": null,
        "xColumns": null,
        "yColumns": null
       },
       "removedWidgets": [],
       "schema": [
        {
         "metadata": "{}",
         "name": "booking_date",
         "type": "\"date\""
        },
        {
         "metadata": "{}",
         "name": "booking_id",
         "type": "\"string\""
        },
        {
         "metadata": "{}",
         "name": "car_id",
         "type": "\"string\""
        },
        {
         "metadata": "{}",
         "name": "customer_id",
         "type": "\"string\""
        },
        {
         "metadata": "{}",
         "name": "end_time",
         "type": "\"timestamp\""
        },
        {
         "metadata": "{}",
         "name": "start_time",
         "type": "\"timestamp\""
        },
        {
         "metadata": "{}",
         "name": "status",
         "type": "\"string\""
        },
        {
         "metadata": "{}",
         "name": "total_amount",
         "type": "\"double\""
        }
       ],
       "type": "table"
      }
     },
     "output_type": "display_data"
    }
   ],
   "source": [
    "display(booking_df)"
   ]
  },
  {
   "cell_type": "code",
   "execution_count": 0,
   "metadata": {
    "application/vnd.databricks.v1+cell": {
     "cellMetadata": {
      "byteLimit": 2048000,
      "rowLimit": 10000
     },
     "inputWidgets": {},
     "nuid": "fe7e2fae-5fc8-4dca-9f95-b68868b3f45f",
     "showTitle": false,
     "tableResultSettingsMap": {},
     "title": ""
    }
   },
   "outputs": [
    {
     "name": "stderr",
     "output_type": "stream",
     "text": [
      "/databricks/spark/python/pyspark/sql/dataframe.py:161: UserWarning: DataFrame constructor is internal. Do not directly use it.\n",
      "  warnings.warn(\"DataFrame constructor is internal. Do not directly use it.\")\n"
     ]
    },
    {
     "data": {
      "text/html": [
       "<style scoped>\n",
       "  .table-result-container {\n",
       "    max-height: 300px;\n",
       "    overflow: auto;\n",
       "  }\n",
       "  table, th, td {\n",
       "    border: 1px solid black;\n",
       "    border-collapse: collapse;\n",
       "  }\n",
       "  th, td {\n",
       "    padding: 5px;\n",
       "  }\n",
       "  th {\n",
       "    text-align: left;\n",
       "  }\n",
       "</style><div class='table-result-container'><table class='table-result'><thead style='background-color: white'><tr><th>check</th><th>check_level</th><th>check_status</th><th>constraint</th><th>constraint_status</th><th>constraint_message</th></tr></thead><tbody><tr><td>Booking Data Check</td><td>Error</td><td>Success</td><td>SizeConstraint(Size(None))</td><td>Success</td><td></td></tr><tr><td>Booking Data Check</td><td>Error</td><td>Success</td><td>UniquenessConstraint(Uniqueness(List(booking_id),None,None))</td><td>Success</td><td></td></tr><tr><td>Booking Data Check</td><td>Error</td><td>Success</td><td>CompletenessConstraint(Completeness(customer_id,None,None))</td><td>Success</td><td></td></tr><tr><td>Booking Data Check</td><td>Error</td><td>Success</td><td>CompletenessConstraint(Completeness(car_id,None,None))</td><td>Success</td><td></td></tr><tr><td>Booking Data Check</td><td>Error</td><td>Success</td><td>CompletenessConstraint(Completeness(booking_date,None,None))</td><td>Success</td><td></td></tr><tr><td>Booking Data Check</td><td>Error</td><td>Success</td><td>CompletenessConstraint(Completeness(start_time,None,None))</td><td>Success</td><td></td></tr><tr><td>Booking Data Check</td><td>Error</td><td>Success</td><td>CompletenessConstraint(Completeness(end_time,None,None))</td><td>Success</td><td></td></tr><tr><td>Booking Data Check</td><td>Error</td><td>Success</td><td>ComplianceConstraint(Compliance(total_amount is non-negative,COALESCE(CAST(total_amount AS DECIMAL(20,10)), 0.0) >= 0,None,List(total_amount),None))</td><td>Success</td><td></td></tr><tr><td>Booking Data Check</td><td>Error</td><td>Success</td><td>ComplianceConstraint(Compliance(status contained in completed,cancelled,pending,`status` IS NULL OR `status` IN ('completed','cancelled','pending'),None,List(status),None))</td><td>Success</td><td></td></tr></tbody></table></div>"
      ]
     },
     "metadata": {
      "application/vnd.databricks.v1+output": {
       "addedWidgets": {},
       "aggData": [],
       "aggError": "",
       "aggOverflow": false,
       "aggSchema": [],
       "aggSeriesLimitReached": false,
       "aggType": "",
       "arguments": {},
       "columnCustomDisplayInfos": {},
       "data": [
        [
         "Booking Data Check",
         "Error",
         "Success",
         "SizeConstraint(Size(None))",
         "Success",
         ""
        ],
        [
         "Booking Data Check",
         "Error",
         "Success",
         "UniquenessConstraint(Uniqueness(List(booking_id),None,None))",
         "Success",
         ""
        ],
        [
         "Booking Data Check",
         "Error",
         "Success",
         "CompletenessConstraint(Completeness(customer_id,None,None))",
         "Success",
         ""
        ],
        [
         "Booking Data Check",
         "Error",
         "Success",
         "CompletenessConstraint(Completeness(car_id,None,None))",
         "Success",
         ""
        ],
        [
         "Booking Data Check",
         "Error",
         "Success",
         "CompletenessConstraint(Completeness(booking_date,None,None))",
         "Success",
         ""
        ],
        [
         "Booking Data Check",
         "Error",
         "Success",
         "CompletenessConstraint(Completeness(start_time,None,None))",
         "Success",
         ""
        ],
        [
         "Booking Data Check",
         "Error",
         "Success",
         "CompletenessConstraint(Completeness(end_time,None,None))",
         "Success",
         ""
        ],
        [
         "Booking Data Check",
         "Error",
         "Success",
         "ComplianceConstraint(Compliance(total_amount is non-negative,COALESCE(CAST(total_amount AS DECIMAL(20,10)), 0.0) >= 0,None,List(total_amount),None))",
         "Success",
         ""
        ],
        [
         "Booking Data Check",
         "Error",
         "Success",
         "ComplianceConstraint(Compliance(status contained in completed,cancelled,pending,`status` IS NULL OR `status` IN ('completed','cancelled','pending'),None,List(status),None))",
         "Success",
         ""
        ]
       ],
       "datasetInfos": [],
       "dbfsResultPath": null,
       "isJsonSchema": true,
       "metadata": {},
       "overflow": false,
       "plotOptions": {
        "customPlotOptions": {},
        "displayType": "table",
        "pivotAggregation": null,
        "pivotColumns": null,
        "xColumns": null,
        "yColumns": null
       },
       "removedWidgets": [],
       "schema": [
        {
         "metadata": "{}",
         "name": "check",
         "type": "\"string\""
        },
        {
         "metadata": "{}",
         "name": "check_level",
         "type": "\"string\""
        },
        {
         "metadata": "{}",
         "name": "check_status",
         "type": "\"string\""
        },
        {
         "metadata": "{}",
         "name": "constraint",
         "type": "\"string\""
        },
        {
         "metadata": "{}",
         "name": "constraint_status",
         "type": "\"string\""
        },
        {
         "metadata": "{}",
         "name": "constraint_message",
         "type": "\"string\""
        }
       ],
       "type": "table"
      }
     },
     "output_type": "display_data"
    }
   ],
   "source": [
    "\n",
    "# Drop rows with null values in critical columns: booking_id, customer_id, car_id, and booking_date\n",
    "booking_df = booking_df.na.drop(subset=[\"booking_id\", \"customer_id\", \"car_id\", \"booking_date\"])\n",
    "\n",
    "# Define allowed statuses for bookings\n",
    "allowed_statuses = [\"completed\", \"cancelled\", \"pending\"]\n",
    "\n",
    "# Filter rows where the 'status' column contains only allowed statuses\n",
    "booking_df = booking_df.filter(col(\"status\").isin(allowed_statuses))\n",
    "\n",
    "# Convert the 'booking_date' column to date format (yyyy-MM-dd)\n",
    "booking_df = booking_df.withColumn(\"booking_date\", to_date(col(\"booking_date\"), \"yyyy-MM-dd\"))\n",
    "\n",
    "# Convert 'start_time' and 'end_time' columns to timestamp format with the given pattern\n",
    "booking_df = booking_df.withColumn(\"start_time\", to_timestamp(col(\"start_time\"), \"yyyy-MM-dd'T'HH:mm:ss'Z'\")).withColumn(\"end_time\", to_timestamp(col(\"end_time\"), \"yyyy-MM-dd'T'HH:mm:ss'Z'\"))\n",
    "\n",
    "# Filter out rows where 'booking_date' is null after conversion\n",
    "booking_df = booking_df.filter(col(\"booking_date\").isNotNull())\n",
    "\n",
    "# Perform data quality checks on the booking data\n",
    "# Initialize a Check for validating booking data\n",
    "check_bookings = Check(spark, CheckLevel.Error, \"Booking Data Check\") \\\n",
    "    .hasSize(lambda x: x > 0)  # Ensure that the dataset has more than 0 rows\n",
    "    .isUnique(\"booking_id\", hint=\"Booking ID is not unique throughout\")  # Check if 'booking_id' is unique\n",
    "    .isComplete(\"customer_id\", hint=\"Customer ID is missing\")  # Ensure 'customer_id' column has no null values\n",
    "    .isComplete(\"car_id\", hint=\"Car ID is missing\")  # Ensure 'car_id' column has no null values\n",
    "    .isComplete(\"booking_date\", hint=\"Booking date is missing\")  # Ensure 'booking_date' column has no null values\n",
    "    .isComplete(\"start_time\", hint=\"Start time is missing\")  # Ensure 'start_time' column has no null values\n",
    "    .isComplete(\"end_time\", hint=\"End time is missing\")  # Ensure 'end_time' column has no null values\n",
    "    .isNonNegative(\"total_amount\", hint=\"Total amount cannot be negative\")  # Ensure 'total_amount' is non-negative\n",
    "    .isContainedIn(\"status\", allowed_statuses, hint=\"Status value is invalid\")  # Check if 'status' values are valid\n",
    "\n",
    "# Run the data quality verification suite on the booking data\n",
    "booking_dq_check = VerificationSuite(spark) \\\n",
    "    .onData(booking_df) \\\n",
    "    .addCheck(check_bookings) \\\n",
    "    .run()\n",
    "\n",
    "# Convert the verification results into a DataFrame for visualization\n",
    "bookings_dq_check_df = VerificationResult.checkResultsAsDataFrame(spark, booking_dq_check)\n",
    "\n",
    "# Display the DataFrame containing the results of the data quality checks\n",
    "display(bookings_dq_check_df)\n",
    "\n",
    "# Check if the verification passed or failed\n",
    "if booking_dq_check.status != \"Success\":\n",
    "    raise ValueError(\"Data Quality Checks Failed for Booking Data\")  # Raise an error if checks fail\n"
   ]
  },
  {
   "cell_type": "code",
   "execution_count": 0,
   "metadata": {
    "application/vnd.databricks.v1+cell": {
     "cellMetadata": {
      "byteLimit": 2048000,
      "rowLimit": 10000
     },
     "inputWidgets": {},
     "nuid": "09829be7-1d75-4c5b-ae67-e6dab7f3b328",
     "showTitle": false,
     "tableResultSettingsMap": {},
     "title": ""
    }
   },
   "outputs": [],
   "source": [
    "from pyspark.sql.functions import col, unix_timestamp, expr\n",
    "\n",
    "booking_df = booking_df.withColumnRenamed(\"status\", \"book_status\")\n",
    "\n",
    "# Calculate trip time in minutes\n",
    "booking_df = booking_df.withColumn(\n",
    "    \"duration_book\",\n",
    "    (unix_timestamp(col(\"end_time\")) - unix_timestamp(col(\"start_time\"))) / 60\n",
    ")\n"
   ]
  },
  {
   "cell_type": "code",
   "execution_count": 0,
   "metadata": {
    "application/vnd.databricks.v1+cell": {
     "cellMetadata": {
      "byteLimit": 2048000,
      "implicitDf": true,
      "rowLimit": 10000
     },
     "inputWidgets": {},
     "nuid": "7278ba0e-a312-49c0-9b60-683b1d6afa2f",
     "showTitle": false,
     "tableResultSettingsMap": {},
     "title": ""
    }
   },
   "outputs": [
    {
     "data": {
      "text/html": [
       "<style scoped>\n",
       "  .table-result-container {\n",
       "    max-height: 300px;\n",
       "    overflow: auto;\n",
       "  }\n",
       "  table, th, td {\n",
       "    border: 1px solid black;\n",
       "    border-collapse: collapse;\n",
       "  }\n",
       "  th, td {\n",
       "    padding: 5px;\n",
       "  }\n",
       "  th {\n",
       "    text-align: left;\n",
       "  }\n",
       "</style><div class='table-result-container'><table class='table-result'><thead style='background-color: white'><tr></tr></thead><tbody></tbody></table></div>"
      ]
     },
     "metadata": {
      "application/vnd.databricks.v1+output": {
       "addedWidgets": {},
       "aggData": [],
       "aggError": "",
       "aggOverflow": false,
       "aggSchema": [],
       "aggSeriesLimitReached": false,
       "aggType": "",
       "arguments": {},
       "columnCustomDisplayInfos": {},
       "data": [],
       "datasetInfos": [],
       "dbfsResultPath": null,
       "isJsonSchema": true,
       "metadata": {
        "dataframeName": null
       },
       "overflow": false,
       "plotOptions": {
        "customPlotOptions": {},
        "displayType": "table",
        "pivotAggregation": null,
        "pivotColumns": null,
        "xColumns": null,
        "yColumns": null
       },
       "removedWidgets": [],
       "schema": [],
       "type": "table"
      }
     },
     "output_type": "display_data"
    }
   ],
   "source": [
    "%sql\n",
    "CREATE DATABASE IF NOT EXISTS zoom"
   ]
  },
  {
   "cell_type": "code",
   "execution_count": 0,
   "metadata": {
    "application/vnd.databricks.v1+cell": {
     "cellMetadata": {
      "byteLimit": 2048000,
      "rowLimit": 10000
     },
     "inputWidgets": {},
     "nuid": "284a0720-e76c-4a4a-a3e5-887ca15fc987",
     "showTitle": false,
     "tableResultSettingsMap": {},
     "title": ""
    }
   },
   "outputs": [],
   "source": [
    "booking_table_name = \"databricks2.zoom.zoom_staging_bookings_delta\"\n",
    "\n",
    "# Check if the table exists\n",
    "if not spark.catalog._jcatalog.tableExists(booking_table_name):\n",
    "    # If the table does not exist, write the DataFrame as a new Delta table\n",
    "    booking_df.write.format(\"delta\").saveAsTable(booking_table_name)\n",
    "else:\n",
    "    # If the table exists, append the new data\n",
    "    booking_df.write.format(\"delta\").mode(\"append\").saveAsTable(booking_table_name)\n",
    "\n"
   ]
  },
  {
   "cell_type": "code",
   "execution_count": 0,
   "metadata": {
    "application/vnd.databricks.v1+cell": {
     "cellMetadata": {
      "byteLimit": 2048000,
      "implicitDf": true,
      "rowLimit": 10000
     },
     "inputWidgets": {},
     "nuid": "1340f4c2-feef-4c84-9232-4b352e6b2e4e",
     "showTitle": false,
     "tableResultSettingsMap": {},
     "title": ""
    }
   },
   "outputs": [
    {
     "data": {
      "text/html": [
       "<style scoped>\n",
       "  .table-result-container {\n",
       "    max-height: 300px;\n",
       "    overflow: auto;\n",
       "  }\n",
       "  table, th, td {\n",
       "    border: 1px solid black;\n",
       "    border-collapse: collapse;\n",
       "  }\n",
       "  th, td {\n",
       "    padding: 5px;\n",
       "  }\n",
       "  th {\n",
       "    text-align: left;\n",
       "  }\n",
       "</style><div class='table-result-container'><table class='table-result'><thead style='background-color: white'><tr></tr></thead><tbody></tbody></table></div>"
      ]
     },
     "metadata": {
      "application/vnd.databricks.v1+output": {
       "addedWidgets": {},
       "aggData": [],
       "aggError": "",
       "aggOverflow": false,
       "aggSchema": [],
       "aggSeriesLimitReached": false,
       "aggType": "",
       "arguments": {},
       "columnCustomDisplayInfos": {},
       "data": [],
       "datasetInfos": [],
       "dbfsResultPath": null,
       "isJsonSchema": true,
       "metadata": {
        "dataframeName": null
       },
       "overflow": false,
       "plotOptions": {
        "customPlotOptions": {},
        "displayType": "table",
        "pivotAggregation": null,
        "pivotColumns": null,
        "xColumns": null,
        "yColumns": null
       },
       "removedWidgets": [],
       "schema": [],
       "type": "table"
      }
     },
     "output_type": "display_data"
    }
   ],
   "source": [
    "%sql\n",
    "--%sql\n",
    "\n",
    "--DROP TABLE IF EXISTS databricks2.default.zoom_staging_bookings_delta"
   ]
  },
  {
   "cell_type": "code",
   "execution_count": 0,
   "metadata": {
    "application/vnd.databricks.v1+cell": {
     "cellMetadata": {},
     "inputWidgets": {},
     "nuid": "0490327c-2763-457c-a2de-ec91a90ed880",
     "showTitle": false,
     "tableResultSettingsMap": {},
     "title": ""
    }
   },
   "outputs": [],
   "source": []
  }
 ],
 "metadata": {
  "application/vnd.databricks.v1+notebook": {
   "dashboards": [],
   "environmentMetadata": {
    "base_environment": "",
    "client": "1"
   },
   "language": "python",
   "notebookMetadata": {
    "mostRecentlyExecutedCommandWithImplicitDF": {
     "commandId": 1964952037718973,
     "dataframes": [
      "_sqldf"
     ]
    },
    "pythonIndentUnit": 4
   },
   "notebookName": "zoom_bookings",
   "widgets": {}
  },
  "language_info": {
   "name": "python"
  }
 },
 "nbformat": 4,
 "nbformat_minor": 0
}
