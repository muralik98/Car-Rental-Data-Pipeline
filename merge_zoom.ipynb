{
 "cells": [
  {
   "cell_type": "code",
   "execution_count": 0,
   "metadata": {
    "application/vnd.databricks.v1+cell": {
     "cellMetadata": {
      "byteLimit": 2048000,
      "rowLimit": 10000
     },
     "inputWidgets": {},
     "nuid": "54096052-184f-4c41-a680-7d39c8ef881c",
     "showTitle": false,
     "tableResultSettingsMap": {},
     "title": ""
    }
   },
   "outputs": [],
   "source": [
    "from pyspark.sql.functions import col, lit, current_timestamp, sum as _sum\n",
    "from delta.tables import DeltaTable\n",
    "from pydeequ.checks import Check, CheckLevel\n",
    "from pydeequ.verification import VerificationSuite, VerificationResult\n",
    "import os"
   ]
  },
  {
   "cell_type": "code",
   "execution_count": 0,
   "metadata": {
    "application/vnd.databricks.v1+cell": {
     "cellMetadata": {
      "byteLimit": 2048000,
      "rowLimit": 10000
     },
     "inputWidgets": {},
     "nuid": "0be682a8-11c5-4c13-8d0a-2f5cf0f382be",
     "showTitle": false,
     "tableResultSettingsMap": {},
     "title": ""
    }
   },
   "outputs": [
    {
     "name": "stdout",
     "output_type": "stream",
     "text": [
      "Reading Delta Table\n",
      " Performing Merge\n"
     ]
    }
   ],
   "source": [
    "# Import necessary libraries\n",
    "from delta.tables import DeltaTable\n",
    "from pyspark.sql import SparkSession\n",
    "\n",
    "# Define the target table (third table)\n",
    "\n",
    "# Read customer_stage_table and bookings_stage_table from Delta table\n",
    "customer_stage_table = spark.read.format(\"delta\").table(\"databricks2.zoom.zoom_staging_customer_delta\")\n",
    "bookings_stage_table = spark.read.format(\"delta\").table(\"databricks2.zoom.zoom_staging_bookings_delta\")\n",
    "\n",
    "merged_table = \"databricks2.zoom.zoom_merged_table\"\n",
    "merged_table_exists = spark._jsparkSession.catalog().tableExists(merged_table)\n",
    "\n",
    "if not merged_table_exists:\n",
    "    # Create the target table if it doesn't exist by combining the necessary fields\n",
    "    merged_data = customer_stage_table.join(bookings_stage_table, \"customer_id\", \"outer\")\n",
    "    \n",
    "    # Write the combined data to the target table\n",
    "    merged_data.write.format(\"delta\").mode(\"overwrite\").saveAsTable(merged_table)\n",
    "    display(merged_table)\n",
    "\n",
    "else:\n",
    "    # Load the target Delta table\n",
    "    print('Reading Delta Table')\n",
    "    target_delta_table = DeltaTable.forName(spark, merged_table)\n",
    "\n",
    "    # Perform the merge operation with the bookings data\n",
    "\n",
    "    print(' Performing Merge')\n",
    "    target_delta_table.alias(\"target\") \\\n",
    "        .merge(\n",
    "            bookings_stage_table.alias(\"source\"),\n",
    "            \"target.booking_id = source.booking_id AND target.customer_id = source.customer_id\"\n",
    "        ) \\\n",
    "        .whenMatchedUpdate(\n",
    "            condition = \"target.booking_id = source.booking_id AND target.customer_id = source.customer_id AND source.book_status <> 'cancelled' OR target.book_status <> 'cancelled'\",  # Matching condition\n",
    "            set = {\n",
    "                \"target.car_id\": \"source.car_id\",  # Update field(s) as needed\n",
    "                \"target.booking_date\": \"source.booking_date\",\n",
    "                \"target.start_time\": \"source.start_time\",\n",
    "                \"target.end_time\": \"source.end_time\",\n",
    "                \"target.total_amount\": \"source.total_amount\",\n",
    "                \"target.book_status\": \"source.book_status\",\n",
    "                \"target.duration_book\": \"source.duration_book\"\n",
    "            }\n",
    "        ) \\\n",
    "        .whenNotMatchedInsert(  \n",
    "            values = {\n",
    "                \"booking_id\": \"source.booking_id\",\n",
    "                \"customer_id\": \"source.customer_id\",\n",
    "                \"car_id\": \"source.car_id\",\n",
    "                \"booking_date\": \"source.booking_date\",\n",
    "                \"start_time\": \"source.start_time\",\n",
    "                \"end_time\": \"source.end_time\",\n",
    "                \"total_amount\": \"source.total_amount\",\n",
    "                \"book_status\": \"source.book_status\",\n",
    "                \"duration_book\": \"source.duration_book\"\n",
    "                \n",
    "            }\n",
    "        ) \\\n",
    "        .whenMatchedDelete(\n",
    "            condition = \"source.book_status = 'cancelled' OR target.book_status = 'cancelled'\"   # Delete if status is 'cancelled'\n",
    "        ) \\\n",
    "        .execute()\n",
    "\n",
    "        # Perform the merge operation with the customer data\n"
   ]
  },
  {
   "cell_type": "code",
   "execution_count": 0,
   "metadata": {
    "application/vnd.databricks.v1+cell": {
     "cellMetadata": {},
     "inputWidgets": {},
     "nuid": "f5f417b2-94e1-4cbe-be74-366ed4153497",
     "showTitle": false,
     "tableResultSettingsMap": {},
     "title": ""
    }
   },
   "outputs": [],
   "source": [
    "target_delta_table.alias(\"target\") \\\n",
    "        .merge(\n",
    "            customer_stage_table.alias(\"source\"),\n",
    "            \"target.customer_id = source.customer_id\"\n",
    "        ) \\\n",
    "        .whenMatchedUpdate(\n",
    "            condition = \"target.customer_id = source.customer_id\",  # Matching condition\n",
    "            set = {\n",
    "                \"target.name\": \"source.name\",  # Update customer fields as needed\n",
    "                \"target.email\": \"source.email\",\n",
    "                \"target.phone_number\": \"source.phone_number\",\n",
    "                \"target.signup_date\": \"source.signup_date\",\n",
    "                \"target.customer_status\": \"source.customer_status\",\n",
    "                \"target.days_difference\": \"source.days_difference\"\n",
    "            }\n",
    "        ) \\\n",
    "        .whenNotMatchedInsert(\n",
    "            values = {\n",
    "                \"customer_id\": \"source.customer_id\",\n",
    "                \"name\": \"source.name\",\n",
    "                \"email\": \"source.email\",\n",
    "                \"phone_number\": \"source.phone_number\",\n",
    "                \"signup_date\": \"source.signup_date\",\n",
    "                \"customer_status\": \"source.customer_status\",\n",
    "                \"days_difference\": \"source.days_difference\"\n",
    "        \n",
    "            }\n",
    "        ) \\\n",
    "        .execute()\n"
   ]
  }
 ],
 "metadata": {
  "application/vnd.databricks.v1+notebook": {
   "dashboards": [],
   "environmentMetadata": {
    "base_environment": "",
    "client": "1"
   },
   "language": "python",
   "notebookMetadata": {
    "pythonIndentUnit": 4
   },
   "notebookName": "merge_zoom",
   "widgets": {}
  },
  "language_info": {
   "name": "python"
  }
 },
 "nbformat": 4,
 "nbformat_minor": 0
}
