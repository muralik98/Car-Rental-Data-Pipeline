{
 "cells": [
  {
   "cell_type": "code",
   "execution_count": 0,
   "metadata": {
    "application/vnd.databricks.v1+cell": {
     "cellMetadata": {
      "byteLimit": 2048000,
      "rowLimit": 10000
     },
     "inputWidgets": {},
     "nuid": "3e580f91-459e-409b-83d9-08bf42b5f3b7",
     "showTitle": false,
     "tableResultSettingsMap": {},
     "title": ""
    }
   },
   "outputs": [],
   "source": [
    "from pyspark.sql.functions import col, lit, current_timestamp, sum as _sum\n",
    "from delta.tables import DeltaTable\n",
    "from pydeequ.checks import Check, CheckLevel\n",
    "from pydeequ.verification import VerificationSuite, VerificationResult\n",
    "import os"
   ]
  },
  {
   "cell_type": "code",
   "execution_count": 0,
   "metadata": {
    "application/vnd.databricks.v1+cell": {
     "cellMetadata": {
      "byteLimit": 2048000,
      "rowLimit": 10000
     },
     "inputWidgets": {},
     "nuid": "c4a3a63a-3e1a-429a-ae3b-7d7cb629767a",
     "showTitle": false,
     "tableResultSettingsMap": {},
     "title": ""
    }
   },
   "outputs": [
    {
     "name": "stdout",
     "output_type": "stream",
     "text": [
      "3.5.0\n"
     ]
    }
   ],
   "source": [
    "# Print the Spark version from the environment variables\n",
    "print(os.environ['SPARK_VERSION'])\n",
    "\n",
    "# Get job parameters from Databricks widgets\n",
    "# 'current_date' is expected to be passed as a widget parameter\n",
    "date_str = dbutils.widgets.get(\"current_date\")\n",
    "\n",
    "# Define the file path for the customer data based on the 'current_date' parameter\n",
    "# Example filename format: zoom_car_customer_yyyymmdd.json\n",
    "customer_data = f\"dbfs:/FileStore/zoomcar/customer/zoom_car_customer_{date_str}.json\"\n",
    "\n",
    "# Check if the file exists in the specified path\n",
    "# If the file is not found, raise a FileNotFoundError with a descriptive message\n",
    "try:\n",
    "    dbutils.fs.ls(customer_data)  # List the directory contents to check file existence\n",
    "except Exception as e:\n",
    "    # Raise a more specific error if the file is not found\n",
    "    raise FileNotFoundError(f\"File {customer_data} not found!\") from e\n"
   ]
  },
  {
   "cell_type": "code",
   "execution_count": 0,
   "metadata": {
    "application/vnd.databricks.v1+cell": {
     "cellMetadata": {
      "byteLimit": 2048000,
      "rowLimit": 10000
     },
     "inputWidgets": {},
     "nuid": "438ffc34-fd41-4264-8211-bc350b20b816",
     "showTitle": false,
     "tableResultSettingsMap": {},
     "title": ""
    }
   },
   "outputs": [
    {
     "name": "stdout",
     "output_type": "stream",
     "text": [
      "root\n",
      " |-- customer_id: string (nullable = true)\n",
      " |-- email: string (nullable = true)\n",
      " |-- name: string (nullable = true)\n",
      " |-- phone_number: string (nullable = true)\n",
      " |-- signup_date: string (nullable = true)\n",
      " |-- status: string (nullable = true)\n",
      "\n"
     ]
    },
    {
     "data": {
      "text/html": [
       "<style scoped>\n",
       "  .table-result-container {\n",
       "    max-height: 300px;\n",
       "    overflow: auto;\n",
       "  }\n",
       "  table, th, td {\n",
       "    border: 1px solid black;\n",
       "    border-collapse: collapse;\n",
       "  }\n",
       "  th, td {\n",
       "    padding: 5px;\n",
       "  }\n",
       "  th {\n",
       "    text-align: left;\n",
       "  }\n",
       "</style><div class='table-result-container'><table class='table-result'><thead style='background-color: white'><tr><th>customer_id</th><th>email</th><th>name</th><th>phone_number</th><th>signup_date</th><th>status</th></tr></thead><tbody><tr><td>C001</td><td>apayne@example.net</td><td>Glenn Jones</td><td>618-241-0939x81956</td><td>2024-03-05</td><td>active</td></tr><tr><td>C002</td><td>bridgesjennifer@example.net</td><td>Michele Munoz</td><td>285-336-1207x9689</td><td>2024-02-15</td><td>inactive</td></tr><tr><td>C003</td><td>romerogordon@example.net</td><td>Valerie Huff</td><td>(670)616-8784x73073</td><td>2024-07-05</td><td>inactive</td></tr><tr><td>C004</td><td>kiarathompson@example.org</td><td>Monica Gill</td><td>001-407-657-1726x534</td><td>2024-10-09</td><td>inactive</td></tr><tr><td>C005</td><td>matthewjohnson@example.com</td><td>Zachary Duncan</td><td>851-526-0178x89130</td><td>2024-07-17</td><td>active</td></tr><tr><td>C006</td><td>johnwatson@example.org</td><td>Jodi Warren</td><td>001-785-217-8761x97316</td><td>2024-06-09</td><td>active</td></tr><tr><td>C007</td><td>jameslee@example.net</td><td>Sarah Rasmussen</td><td>(925)374-1133</td><td>2024-11-08</td><td>active</td></tr><tr><td>C008</td><td>stevenfoster@example.com</td><td>Scott Bryan</td><td>001-582-200-7910x726</td><td>2024-06-29</td><td>inactive</td></tr><tr><td>C009</td><td>christopher01@example.org</td><td>Beth Pham</td><td>(322)406-2179</td><td>2024-05-15</td><td>inactive</td></tr><tr><td>C010</td><td>xbradley@example.org</td><td>Madeline Good</td><td>5866919138</td><td>2024-03-07</td><td>active</td></tr><tr><td>C011</td><td>megan49@example.com</td><td>Kimberly Robinson</td><td>001-339-783-5568</td><td>2024-01-01</td><td>inactive</td></tr><tr><td>C012</td><td>nancywarner@example.net</td><td>Eric Costa</td><td>335-827-3312x0602</td><td>2024-01-04</td><td>inactive</td></tr><tr><td>C013</td><td>andersonjames@example.com</td><td>Angela Colon</td><td>420-390-6481x41027</td><td>2024-09-13</td><td>inactive</td></tr><tr><td>C014</td><td>folson@example.com</td><td>William Porter</td><td>649-401-1119x769</td><td>2024-07-04</td><td>inactive</td></tr><tr><td>C015</td><td>uburch@example.net</td><td>Jessica Poole</td><td>(280)683-5642</td><td>2024-02-18</td><td>inactive</td></tr><tr><td>C016</td><td>ballkatherine@example.com</td><td>Rhonda Clark</td><td>9423440742</td><td>2024-07-26</td><td>inactive</td></tr><tr><td>C017</td><td>carterallison@example.net</td><td>Gabriela Ellis</td><td>(486)301-1724x467</td><td>2024-06-17</td><td>inactive</td></tr><tr><td>C018</td><td>butlertravis@example.org</td><td>David Garcia</td><td>630-644-2871</td><td>2024-09-14</td><td>inactive</td></tr><tr><td>C019</td><td>amanda82@example.net</td><td>Annette Lucas</td><td>819.444.8124</td><td>2024-08-26</td><td>inactive</td></tr><tr><td>C020</td><td>baileydavid@example.org</td><td>Russell Holmes</td><td>(409)523-1266x0997</td><td>2024-10-06</td><td>inactive</td></tr><tr><td>C021</td><td>ariel27@example.net</td><td>Mary Campbell</td><td>386-867-8415x3243</td><td>2024-05-20</td><td>inactive</td></tr><tr><td>C022</td><td>bradley85@example.net</td><td>Joseph Smith</td><td>536.387.1506</td><td>2024-04-11</td><td>inactive</td></tr><tr><td>C023</td><td>andrewcoleman@example.com</td><td>Samantha Morton</td><td>+1-796-266-9366x6250</td><td>2024-01-04</td><td>active</td></tr><tr><td>C024</td><td>jenna12@example.com</td><td>Shannon Hernandez</td><td>+1-498-823-8924x580</td><td>2024-06-02</td><td>active</td></tr><tr><td>C025</td><td>mendozacrystal@example.org</td><td>Judith Cox</td><td>001-858-274-7141x04626</td><td>2024-02-11</td><td>inactive</td></tr><tr><td>C026</td><td>amanda12@example.com</td><td>Brandon White</td><td>(233)410-3389x12716</td><td>2024-08-23</td><td>inactive</td></tr><tr><td>C027</td><td>michaellong@example.net</td><td>Kelsey Smith</td><td>935-268-0971x192</td><td>2024-10-19</td><td>active</td></tr><tr><td>C028</td><td>wparker@example.org</td><td>Christina Pruitt</td><td>910.536.8491</td><td>2024-10-19</td><td>inactive</td></tr><tr><td>C029</td><td>stacy31@example.org</td><td>Tracy Castro</td><td>001-736-756-8240x380</td><td>2024-07-02</td><td>inactive</td></tr><tr><td>C030</td><td>christina59@example.com</td><td>Mary Ramirez</td><td>260.340.2899x1236</td><td>2024-01-02</td><td>active</td></tr><tr><td>C031</td><td>latoyakramer@example.net</td><td>Justin Brown</td><td>727.250.8960x1845</td><td>2024-04-27</td><td>inactive</td></tr><tr><td>C032</td><td>michelle11@example.org</td><td>Patrick Lopez</td><td>565-801-4677x917</td><td>2024-05-03</td><td>inactive</td></tr><tr><td>C033</td><td>mendezpatrick@example.org</td><td>Stephen Cobb</td><td>+1-317-588-3500x407</td><td>2024-01-23</td><td>inactive</td></tr><tr><td>C034</td><td>amanda09@example.com</td><td>Sarah Quinn</td><td>001-431-895-7194x702</td><td>2024-09-27</td><td>inactive</td></tr><tr><td>C035</td><td>taylor57@example.com</td><td>Joseph Mooney</td><td>+1-677-235-2471</td><td>2024-07-08</td><td>active</td></tr><tr><td>C036</td><td>villatodd@example.net</td><td>Cassandra Hughes</td><td>255-370-7356</td><td>2024-11-10</td><td>active</td></tr><tr><td>C037</td><td>wjohnson@example.org</td><td>Wyatt Martin</td><td>615-541-3540</td><td>2024-09-12</td><td>inactive</td></tr><tr><td>C038</td><td>cassandrajohnston@example.org</td><td>Thomas Rivas</td><td>576-653-9415x28577</td><td>2024-07-27</td><td>active</td></tr><tr><td>C039</td><td>probinson@example.com</td><td>Kathy Gonzales</td><td>641-706-9835</td><td>2024-01-17</td><td>inactive</td></tr><tr><td>C040</td><td>aaron13@example.com</td><td>Elizabeth Davis</td><td>292-322-8637x4446</td><td>2024-07-12</td><td>inactive</td></tr><tr><td>C041</td><td>frank23@example.org</td><td>Michelle Cain</td><td>785-961-2438x39192</td><td>2024-07-28</td><td>inactive</td></tr><tr><td>C042</td><td>barberthomas@example.com</td><td>Robert Lopez</td><td>457-990-2381</td><td>2024-08-06</td><td>inactive</td></tr><tr><td>C043</td><td>adamherring@example.org</td><td>Kristin Wilson</td><td>001-517-771-6842x913</td><td>2024-02-24</td><td>active</td></tr><tr><td>C044</td><td>courtneylewis@example.com</td><td>Vanessa Ramirez</td><td>001-763-514-6798x06723</td><td>2024-04-01</td><td>inactive</td></tr><tr><td>C045</td><td>cathy49@example.org</td><td>Brandon Choi</td><td>814.833.9192</td><td>2024-06-01</td><td>inactive</td></tr><tr><td>C046</td><td>barbervicki@example.com</td><td>Natalie Wilkins</td><td>301-806-8998</td><td>2024-07-04</td><td>inactive</td></tr><tr><td>C047</td><td>vlucas@example.com</td><td>Rachel Alvarado</td><td>+1-251-357-5325x69098</td><td>2024-10-11</td><td>inactive</td></tr><tr><td>C048</td><td>georgepaul@example.org</td><td>Ashley Barron</td><td>902.272.5932</td><td>2024-11-20</td><td>active</td></tr><tr><td>C049</td><td>thompsonmonica@example.org</td><td>Jesus Kane</td><td>659-808-0700</td><td>2024-09-14</td><td>active</td></tr><tr><td>C050</td><td>carlwatkins@example.net</td><td>Lauren Murray</td><td>4172936072</td><td>2024-11-20</td><td>inactive</td></tr></tbody></table></div>"
      ]
     },
     "metadata": {
      "application/vnd.databricks.v1+output": {
       "addedWidgets": {},
       "aggData": [],
       "aggError": "",
       "aggOverflow": false,
       "aggSchema": [],
       "aggSeriesLimitReached": false,
       "aggType": "",
       "arguments": {},
       "columnCustomDisplayInfos": {},
       "data": [
        [
         "C001",
         "apayne@example.net",
         "Glenn Jones",
         "618-241-0939x81956",
         "2024-03-05",
         "active"
        ],
        [
         "C002",
         "bridgesjennifer@example.net",
         "Michele Munoz",
         "285-336-1207x9689",
         "2024-02-15",
         "inactive"
        ],
        [
         "C003",
         "romerogordon@example.net",
         "Valerie Huff",
         "(670)616-8784x73073",
         "2024-07-05",
         "inactive"
        ],
        [
         "C004",
         "kiarathompson@example.org",
         "Monica Gill",
         "001-407-657-1726x534",
         "2024-10-09",
         "inactive"
        ],
        [
         "C005",
         "matthewjohnson@example.com",
         "Zachary Duncan",
         "851-526-0178x89130",
         "2024-07-17",
         "active"
        ],
        [
         "C006",
         "johnwatson@example.org",
         "Jodi Warren",
         "001-785-217-8761x97316",
         "2024-06-09",
         "active"
        ],
        [
         "C007",
         "jameslee@example.net",
         "Sarah Rasmussen",
         "(925)374-1133",
         "2024-11-08",
         "active"
        ],
        [
         "C008",
         "stevenfoster@example.com",
         "Scott Bryan",
         "001-582-200-7910x726",
         "2024-06-29",
         "inactive"
        ],
        [
         "C009",
         "christopher01@example.org",
         "Beth Pham",
         "(322)406-2179",
         "2024-05-15",
         "inactive"
        ],
        [
         "C010",
         "xbradley@example.org",
         "Madeline Good",
         "5866919138",
         "2024-03-07",
         "active"
        ],
        [
         "C011",
         "megan49@example.com",
         "Kimberly Robinson",
         "001-339-783-5568",
         "2024-01-01",
         "inactive"
        ],
        [
         "C012",
         "nancywarner@example.net",
         "Eric Costa",
         "335-827-3312x0602",
         "2024-01-04",
         "inactive"
        ],
        [
         "C013",
         "andersonjames@example.com",
         "Angela Colon",
         "420-390-6481x41027",
         "2024-09-13",
         "inactive"
        ],
        [
         "C014",
         "folson@example.com",
         "William Porter",
         "649-401-1119x769",
         "2024-07-04",
         "inactive"
        ],
        [
         "C015",
         "uburch@example.net",
         "Jessica Poole",
         "(280)683-5642",
         "2024-02-18",
         "inactive"
        ],
        [
         "C016",
         "ballkatherine@example.com",
         "Rhonda Clark",
         "9423440742",
         "2024-07-26",
         "inactive"
        ],
        [
         "C017",
         "carterallison@example.net",
         "Gabriela Ellis",
         "(486)301-1724x467",
         "2024-06-17",
         "inactive"
        ],
        [
         "C018",
         "butlertravis@example.org",
         "David Garcia",
         "630-644-2871",
         "2024-09-14",
         "inactive"
        ],
        [
         "C019",
         "amanda82@example.net",
         "Annette Lucas",
         "819.444.8124",
         "2024-08-26",
         "inactive"
        ],
        [
         "C020",
         "baileydavid@example.org",
         "Russell Holmes",
         "(409)523-1266x0997",
         "2024-10-06",
         "inactive"
        ],
        [
         "C021",
         "ariel27@example.net",
         "Mary Campbell",
         "386-867-8415x3243",
         "2024-05-20",
         "inactive"
        ],
        [
         "C022",
         "bradley85@example.net",
         "Joseph Smith",
         "536.387.1506",
         "2024-04-11",
         "inactive"
        ],
        [
         "C023",
         "andrewcoleman@example.com",
         "Samantha Morton",
         "+1-796-266-9366x6250",
         "2024-01-04",
         "active"
        ],
        [
         "C024",
         "jenna12@example.com",
         "Shannon Hernandez",
         "+1-498-823-8924x580",
         "2024-06-02",
         "active"
        ],
        [
         "C025",
         "mendozacrystal@example.org",
         "Judith Cox",
         "001-858-274-7141x04626",
         "2024-02-11",
         "inactive"
        ],
        [
         "C026",
         "amanda12@example.com",
         "Brandon White",
         "(233)410-3389x12716",
         "2024-08-23",
         "inactive"
        ],
        [
         "C027",
         "michaellong@example.net",
         "Kelsey Smith",
         "935-268-0971x192",
         "2024-10-19",
         "active"
        ],
        [
         "C028",
         "wparker@example.org",
         "Christina Pruitt",
         "910.536.8491",
         "2024-10-19",
         "inactive"
        ],
        [
         "C029",
         "stacy31@example.org",
         "Tracy Castro",
         "001-736-756-8240x380",
         "2024-07-02",
         "inactive"
        ],
        [
         "C030",
         "christina59@example.com",
         "Mary Ramirez",
         "260.340.2899x1236",
         "2024-01-02",
         "active"
        ],
        [
         "C031",
         "latoyakramer@example.net",
         "Justin Brown",
         "727.250.8960x1845",
         "2024-04-27",
         "inactive"
        ],
        [
         "C032",
         "michelle11@example.org",
         "Patrick Lopez",
         "565-801-4677x917",
         "2024-05-03",
         "inactive"
        ],
        [
         "C033",
         "mendezpatrick@example.org",
         "Stephen Cobb",
         "+1-317-588-3500x407",
         "2024-01-23",
         "inactive"
        ],
        [
         "C034",
         "amanda09@example.com",
         "Sarah Quinn",
         "001-431-895-7194x702",
         "2024-09-27",
         "inactive"
        ],
        [
         "C035",
         "taylor57@example.com",
         "Joseph Mooney",
         "+1-677-235-2471",
         "2024-07-08",
         "active"
        ],
        [
         "C036",
         "villatodd@example.net",
         "Cassandra Hughes",
         "255-370-7356",
         "2024-11-10",
         "active"
        ],
        [
         "C037",
         "wjohnson@example.org",
         "Wyatt Martin",
         "615-541-3540",
         "2024-09-12",
         "inactive"
        ],
        [
         "C038",
         "cassandrajohnston@example.org",
         "Thomas Rivas",
         "576-653-9415x28577",
         "2024-07-27",
         "active"
        ],
        [
         "C039",
         "probinson@example.com",
         "Kathy Gonzales",
         "641-706-9835",
         "2024-01-17",
         "inactive"
        ],
        [
         "C040",
         "aaron13@example.com",
         "Elizabeth Davis",
         "292-322-8637x4446",
         "2024-07-12",
         "inactive"
        ],
        [
         "C041",
         "frank23@example.org",
         "Michelle Cain",
         "785-961-2438x39192",
         "2024-07-28",
         "inactive"
        ],
        [
         "C042",
         "barberthomas@example.com",
         "Robert Lopez",
         "457-990-2381",
         "2024-08-06",
         "inactive"
        ],
        [
         "C043",
         "adamherring@example.org",
         "Kristin Wilson",
         "001-517-771-6842x913",
         "2024-02-24",
         "active"
        ],
        [
         "C044",
         "courtneylewis@example.com",
         "Vanessa Ramirez",
         "001-763-514-6798x06723",
         "2024-04-01",
         "inactive"
        ],
        [
         "C045",
         "cathy49@example.org",
         "Brandon Choi",
         "814.833.9192",
         "2024-06-01",
         "inactive"
        ],
        [
         "C046",
         "barbervicki@example.com",
         "Natalie Wilkins",
         "301-806-8998",
         "2024-07-04",
         "inactive"
        ],
        [
         "C047",
         "vlucas@example.com",
         "Rachel Alvarado",
         "+1-251-357-5325x69098",
         "2024-10-11",
         "inactive"
        ],
        [
         "C048",
         "georgepaul@example.org",
         "Ashley Barron",
         "902.272.5932",
         "2024-11-20",
         "active"
        ],
        [
         "C049",
         "thompsonmonica@example.org",
         "Jesus Kane",
         "659-808-0700",
         "2024-09-14",
         "active"
        ],
        [
         "C050",
         "carlwatkins@example.net",
         "Lauren Murray",
         "4172936072",
         "2024-11-20",
         "inactive"
        ]
       ],
       "datasetInfos": [],
       "dbfsResultPath": null,
       "isJsonSchema": true,
       "metadata": {},
       "overflow": false,
       "plotOptions": {
        "customPlotOptions": {},
        "displayType": "table",
        "pivotAggregation": null,
        "pivotColumns": null,
        "xColumns": null,
        "yColumns": null
       },
       "removedWidgets": [],
       "schema": [
        {
         "metadata": "{}",
         "name": "customer_id",
         "type": "\"string\""
        },
        {
         "metadata": "{}",
         "name": "email",
         "type": "\"string\""
        },
        {
         "metadata": "{}",
         "name": "name",
         "type": "\"string\""
        },
        {
         "metadata": "{}",
         "name": "phone_number",
         "type": "\"string\""
        },
        {
         "metadata": "{}",
         "name": "signup_date",
         "type": "\"string\""
        },
        {
         "metadata": "{}",
         "name": "status",
         "type": "\"string\""
        }
       ],
       "type": "table"
      }
     },
     "output_type": "display_data"
    }
   ],
   "source": [
    "# Read booking data\n",
    "customer_df = spark.read \\\n",
    "    .format(\"json\") \\\n",
    "    .option(\"header\", \"true\") \\\n",
    "    .option(\"inferSchema\", \"true\") \\\n",
    "    .option(\"quote\", \"\\\"\") \\\n",
    "    .option(\"multiLine\", \"true\") \\\n",
    "    .load(customer_data)\n",
    "\n",
    "customer_df.printSchema()\n",
    "display(customer_df)\n"
   ]
  },
  {
   "cell_type": "code",
   "execution_count": 0,
   "metadata": {
    "application/vnd.databricks.v1+cell": {
     "cellMetadata": {
      "byteLimit": 2048000,
      "rowLimit": 10000
     },
     "inputWidgets": {},
     "nuid": "bc1e9f8b-948e-462d-bcf3-1633a4bd8c41",
     "showTitle": false,
     "tableResultSettingsMap": {},
     "title": ""
    }
   },
   "outputs": [
    {
     "data": {
      "text/html": [
       "<style scoped>\n",
       "  .table-result-container {\n",
       "    max-height: 300px;\n",
       "    overflow: auto;\n",
       "  }\n",
       "  table, th, td {\n",
       "    border: 1px solid black;\n",
       "    border-collapse: collapse;\n",
       "  }\n",
       "  th, td {\n",
       "    padding: 5px;\n",
       "  }\n",
       "  th {\n",
       "    text-align: left;\n",
       "  }\n",
       "</style><div class='table-result-container'><table class='table-result'><thead style='background-color: white'><tr><th>customer_id</th><th>email</th><th>name</th><th>phone_number</th><th>signup_date</th><th>status</th></tr></thead><tbody><tr><td>C001</td><td>apayne@example.net</td><td>Glenn Jones</td><td>618-241-0939x81956</td><td>2024-03-05</td><td>active</td></tr><tr><td>C002</td><td>bridgesjennifer@example.net</td><td>Michele Munoz</td><td>285-336-1207x9689</td><td>2024-02-15</td><td>inactive</td></tr><tr><td>C003</td><td>romerogordon@example.net</td><td>Valerie Huff</td><td>(670)616-8784x73073</td><td>2024-07-05</td><td>inactive</td></tr><tr><td>C004</td><td>kiarathompson@example.org</td><td>Monica Gill</td><td>001-407-657-1726x534</td><td>2024-10-09</td><td>inactive</td></tr><tr><td>C005</td><td>matthewjohnson@example.com</td><td>Zachary Duncan</td><td>851-526-0178x89130</td><td>2024-07-17</td><td>active</td></tr><tr><td>C006</td><td>johnwatson@example.org</td><td>Jodi Warren</td><td>001-785-217-8761x97316</td><td>2024-06-09</td><td>active</td></tr><tr><td>C007</td><td>jameslee@example.net</td><td>Sarah Rasmussen</td><td>(925)374-1133</td><td>2024-11-08</td><td>active</td></tr><tr><td>C008</td><td>stevenfoster@example.com</td><td>Scott Bryan</td><td>001-582-200-7910x726</td><td>2024-06-29</td><td>inactive</td></tr><tr><td>C009</td><td>christopher01@example.org</td><td>Beth Pham</td><td>(322)406-2179</td><td>2024-05-15</td><td>inactive</td></tr><tr><td>C010</td><td>xbradley@example.org</td><td>Madeline Good</td><td>5866919138</td><td>2024-03-07</td><td>active</td></tr><tr><td>C011</td><td>megan49@example.com</td><td>Kimberly Robinson</td><td>001-339-783-5568</td><td>2024-01-01</td><td>inactive</td></tr><tr><td>C012</td><td>nancywarner@example.net</td><td>Eric Costa</td><td>335-827-3312x0602</td><td>2024-01-04</td><td>inactive</td></tr><tr><td>C013</td><td>andersonjames@example.com</td><td>Angela Colon</td><td>420-390-6481x41027</td><td>2024-09-13</td><td>inactive</td></tr><tr><td>C014</td><td>folson@example.com</td><td>William Porter</td><td>649-401-1119x769</td><td>2024-07-04</td><td>inactive</td></tr><tr><td>C015</td><td>uburch@example.net</td><td>Jessica Poole</td><td>(280)683-5642</td><td>2024-02-18</td><td>inactive</td></tr><tr><td>C016</td><td>ballkatherine@example.com</td><td>Rhonda Clark</td><td>9423440742</td><td>2024-07-26</td><td>inactive</td></tr><tr><td>C017</td><td>carterallison@example.net</td><td>Gabriela Ellis</td><td>(486)301-1724x467</td><td>2024-06-17</td><td>inactive</td></tr><tr><td>C018</td><td>butlertravis@example.org</td><td>David Garcia</td><td>630-644-2871</td><td>2024-09-14</td><td>inactive</td></tr><tr><td>C019</td><td>amanda82@example.net</td><td>Annette Lucas</td><td>819.444.8124</td><td>2024-08-26</td><td>inactive</td></tr><tr><td>C020</td><td>baileydavid@example.org</td><td>Russell Holmes</td><td>(409)523-1266x0997</td><td>2024-10-06</td><td>inactive</td></tr><tr><td>C021</td><td>ariel27@example.net</td><td>Mary Campbell</td><td>386-867-8415x3243</td><td>2024-05-20</td><td>inactive</td></tr><tr><td>C022</td><td>bradley85@example.net</td><td>Joseph Smith</td><td>536.387.1506</td><td>2024-04-11</td><td>inactive</td></tr><tr><td>C023</td><td>andrewcoleman@example.com</td><td>Samantha Morton</td><td>+1-796-266-9366x6250</td><td>2024-01-04</td><td>active</td></tr><tr><td>C024</td><td>jenna12@example.com</td><td>Shannon Hernandez</td><td>+1-498-823-8924x580</td><td>2024-06-02</td><td>active</td></tr><tr><td>C025</td><td>mendozacrystal@example.org</td><td>Judith Cox</td><td>001-858-274-7141x04626</td><td>2024-02-11</td><td>inactive</td></tr><tr><td>C026</td><td>amanda12@example.com</td><td>Brandon White</td><td>(233)410-3389x12716</td><td>2024-08-23</td><td>inactive</td></tr><tr><td>C027</td><td>michaellong@example.net</td><td>Kelsey Smith</td><td>935-268-0971x192</td><td>2024-10-19</td><td>active</td></tr><tr><td>C028</td><td>wparker@example.org</td><td>Christina Pruitt</td><td>910.536.8491</td><td>2024-10-19</td><td>inactive</td></tr><tr><td>C029</td><td>stacy31@example.org</td><td>Tracy Castro</td><td>001-736-756-8240x380</td><td>2024-07-02</td><td>inactive</td></tr><tr><td>C030</td><td>christina59@example.com</td><td>Mary Ramirez</td><td>260.340.2899x1236</td><td>2024-01-02</td><td>active</td></tr><tr><td>C031</td><td>latoyakramer@example.net</td><td>Justin Brown</td><td>727.250.8960x1845</td><td>2024-04-27</td><td>inactive</td></tr><tr><td>C032</td><td>michelle11@example.org</td><td>Patrick Lopez</td><td>565-801-4677x917</td><td>2024-05-03</td><td>inactive</td></tr><tr><td>C033</td><td>mendezpatrick@example.org</td><td>Stephen Cobb</td><td>+1-317-588-3500x407</td><td>2024-01-23</td><td>inactive</td></tr><tr><td>C034</td><td>amanda09@example.com</td><td>Sarah Quinn</td><td>001-431-895-7194x702</td><td>2024-09-27</td><td>inactive</td></tr><tr><td>C035</td><td>taylor57@example.com</td><td>Joseph Mooney</td><td>+1-677-235-2471</td><td>2024-07-08</td><td>active</td></tr><tr><td>C036</td><td>villatodd@example.net</td><td>Cassandra Hughes</td><td>255-370-7356</td><td>2024-11-10</td><td>active</td></tr><tr><td>C037</td><td>wjohnson@example.org</td><td>Wyatt Martin</td><td>615-541-3540</td><td>2024-09-12</td><td>inactive</td></tr><tr><td>C038</td><td>cassandrajohnston@example.org</td><td>Thomas Rivas</td><td>576-653-9415x28577</td><td>2024-07-27</td><td>active</td></tr><tr><td>C039</td><td>probinson@example.com</td><td>Kathy Gonzales</td><td>641-706-9835</td><td>2024-01-17</td><td>inactive</td></tr><tr><td>C040</td><td>aaron13@example.com</td><td>Elizabeth Davis</td><td>292-322-8637x4446</td><td>2024-07-12</td><td>inactive</td></tr><tr><td>C041</td><td>frank23@example.org</td><td>Michelle Cain</td><td>785-961-2438x39192</td><td>2024-07-28</td><td>inactive</td></tr><tr><td>C042</td><td>barberthomas@example.com</td><td>Robert Lopez</td><td>457-990-2381</td><td>2024-08-06</td><td>inactive</td></tr><tr><td>C043</td><td>adamherring@example.org</td><td>Kristin Wilson</td><td>001-517-771-6842x913</td><td>2024-02-24</td><td>active</td></tr><tr><td>C044</td><td>courtneylewis@example.com</td><td>Vanessa Ramirez</td><td>001-763-514-6798x06723</td><td>2024-04-01</td><td>inactive</td></tr><tr><td>C045</td><td>cathy49@example.org</td><td>Brandon Choi</td><td>814.833.9192</td><td>2024-06-01</td><td>inactive</td></tr><tr><td>C046</td><td>barbervicki@example.com</td><td>Natalie Wilkins</td><td>301-806-8998</td><td>2024-07-04</td><td>inactive</td></tr><tr><td>C047</td><td>vlucas@example.com</td><td>Rachel Alvarado</td><td>+1-251-357-5325x69098</td><td>2024-10-11</td><td>inactive</td></tr><tr><td>C048</td><td>georgepaul@example.org</td><td>Ashley Barron</td><td>902.272.5932</td><td>2024-11-20</td><td>active</td></tr><tr><td>C049</td><td>thompsonmonica@example.org</td><td>Jesus Kane</td><td>659-808-0700</td><td>2024-09-14</td><td>active</td></tr><tr><td>C050</td><td>carlwatkins@example.net</td><td>Lauren Murray</td><td>4172936072</td><td>2024-11-20</td><td>inactive</td></tr></tbody></table></div>"
      ]
     },
     "metadata": {
      "application/vnd.databricks.v1+output": {
       "addedWidgets": {},
       "aggData": [],
       "aggError": "",
       "aggOverflow": false,
       "aggSchema": [],
       "aggSeriesLimitReached": false,
       "aggType": "",
       "arguments": {},
       "columnCustomDisplayInfos": {},
       "data": [
        [
         "C001",
         "apayne@example.net",
         "Glenn Jones",
         "618-241-0939x81956",
         "2024-03-05",
         "active"
        ],
        [
         "C002",
         "bridgesjennifer@example.net",
         "Michele Munoz",
         "285-336-1207x9689",
         "2024-02-15",
         "inactive"
        ],
        [
         "C003",
         "romerogordon@example.net",
         "Valerie Huff",
         "(670)616-8784x73073",
         "2024-07-05",
         "inactive"
        ],
        [
         "C004",
         "kiarathompson@example.org",
         "Monica Gill",
         "001-407-657-1726x534",
         "2024-10-09",
         "inactive"
        ],
        [
         "C005",
         "matthewjohnson@example.com",
         "Zachary Duncan",
         "851-526-0178x89130",
         "2024-07-17",
         "active"
        ],
        [
         "C006",
         "johnwatson@example.org",
         "Jodi Warren",
         "001-785-217-8761x97316",
         "2024-06-09",
         "active"
        ],
        [
         "C007",
         "jameslee@example.net",
         "Sarah Rasmussen",
         "(925)374-1133",
         "2024-11-08",
         "active"
        ],
        [
         "C008",
         "stevenfoster@example.com",
         "Scott Bryan",
         "001-582-200-7910x726",
         "2024-06-29",
         "inactive"
        ],
        [
         "C009",
         "christopher01@example.org",
         "Beth Pham",
         "(322)406-2179",
         "2024-05-15",
         "inactive"
        ],
        [
         "C010",
         "xbradley@example.org",
         "Madeline Good",
         "5866919138",
         "2024-03-07",
         "active"
        ],
        [
         "C011",
         "megan49@example.com",
         "Kimberly Robinson",
         "001-339-783-5568",
         "2024-01-01",
         "inactive"
        ],
        [
         "C012",
         "nancywarner@example.net",
         "Eric Costa",
         "335-827-3312x0602",
         "2024-01-04",
         "inactive"
        ],
        [
         "C013",
         "andersonjames@example.com",
         "Angela Colon",
         "420-390-6481x41027",
         "2024-09-13",
         "inactive"
        ],
        [
         "C014",
         "folson@example.com",
         "William Porter",
         "649-401-1119x769",
         "2024-07-04",
         "inactive"
        ],
        [
         "C015",
         "uburch@example.net",
         "Jessica Poole",
         "(280)683-5642",
         "2024-02-18",
         "inactive"
        ],
        [
         "C016",
         "ballkatherine@example.com",
         "Rhonda Clark",
         "9423440742",
         "2024-07-26",
         "inactive"
        ],
        [
         "C017",
         "carterallison@example.net",
         "Gabriela Ellis",
         "(486)301-1724x467",
         "2024-06-17",
         "inactive"
        ],
        [
         "C018",
         "butlertravis@example.org",
         "David Garcia",
         "630-644-2871",
         "2024-09-14",
         "inactive"
        ],
        [
         "C019",
         "amanda82@example.net",
         "Annette Lucas",
         "819.444.8124",
         "2024-08-26",
         "inactive"
        ],
        [
         "C020",
         "baileydavid@example.org",
         "Russell Holmes",
         "(409)523-1266x0997",
         "2024-10-06",
         "inactive"
        ],
        [
         "C021",
         "ariel27@example.net",
         "Mary Campbell",
         "386-867-8415x3243",
         "2024-05-20",
         "inactive"
        ],
        [
         "C022",
         "bradley85@example.net",
         "Joseph Smith",
         "536.387.1506",
         "2024-04-11",
         "inactive"
        ],
        [
         "C023",
         "andrewcoleman@example.com",
         "Samantha Morton",
         "+1-796-266-9366x6250",
         "2024-01-04",
         "active"
        ],
        [
         "C024",
         "jenna12@example.com",
         "Shannon Hernandez",
         "+1-498-823-8924x580",
         "2024-06-02",
         "active"
        ],
        [
         "C025",
         "mendozacrystal@example.org",
         "Judith Cox",
         "001-858-274-7141x04626",
         "2024-02-11",
         "inactive"
        ],
        [
         "C026",
         "amanda12@example.com",
         "Brandon White",
         "(233)410-3389x12716",
         "2024-08-23",
         "inactive"
        ],
        [
         "C027",
         "michaellong@example.net",
         "Kelsey Smith",
         "935-268-0971x192",
         "2024-10-19",
         "active"
        ],
        [
         "C028",
         "wparker@example.org",
         "Christina Pruitt",
         "910.536.8491",
         "2024-10-19",
         "inactive"
        ],
        [
         "C029",
         "stacy31@example.org",
         "Tracy Castro",
         "001-736-756-8240x380",
         "2024-07-02",
         "inactive"
        ],
        [
         "C030",
         "christina59@example.com",
         "Mary Ramirez",
         "260.340.2899x1236",
         "2024-01-02",
         "active"
        ],
        [
         "C031",
         "latoyakramer@example.net",
         "Justin Brown",
         "727.250.8960x1845",
         "2024-04-27",
         "inactive"
        ],
        [
         "C032",
         "michelle11@example.org",
         "Patrick Lopez",
         "565-801-4677x917",
         "2024-05-03",
         "inactive"
        ],
        [
         "C033",
         "mendezpatrick@example.org",
         "Stephen Cobb",
         "+1-317-588-3500x407",
         "2024-01-23",
         "inactive"
        ],
        [
         "C034",
         "amanda09@example.com",
         "Sarah Quinn",
         "001-431-895-7194x702",
         "2024-09-27",
         "inactive"
        ],
        [
         "C035",
         "taylor57@example.com",
         "Joseph Mooney",
         "+1-677-235-2471",
         "2024-07-08",
         "active"
        ],
        [
         "C036",
         "villatodd@example.net",
         "Cassandra Hughes",
         "255-370-7356",
         "2024-11-10",
         "active"
        ],
        [
         "C037",
         "wjohnson@example.org",
         "Wyatt Martin",
         "615-541-3540",
         "2024-09-12",
         "inactive"
        ],
        [
         "C038",
         "cassandrajohnston@example.org",
         "Thomas Rivas",
         "576-653-9415x28577",
         "2024-07-27",
         "active"
        ],
        [
         "C039",
         "probinson@example.com",
         "Kathy Gonzales",
         "641-706-9835",
         "2024-01-17",
         "inactive"
        ],
        [
         "C040",
         "aaron13@example.com",
         "Elizabeth Davis",
         "292-322-8637x4446",
         "2024-07-12",
         "inactive"
        ],
        [
         "C041",
         "frank23@example.org",
         "Michelle Cain",
         "785-961-2438x39192",
         "2024-07-28",
         "inactive"
        ],
        [
         "C042",
         "barberthomas@example.com",
         "Robert Lopez",
         "457-990-2381",
         "2024-08-06",
         "inactive"
        ],
        [
         "C043",
         "adamherring@example.org",
         "Kristin Wilson",
         "001-517-771-6842x913",
         "2024-02-24",
         "active"
        ],
        [
         "C044",
         "courtneylewis@example.com",
         "Vanessa Ramirez",
         "001-763-514-6798x06723",
         "2024-04-01",
         "inactive"
        ],
        [
         "C045",
         "cathy49@example.org",
         "Brandon Choi",
         "814.833.9192",
         "2024-06-01",
         "inactive"
        ],
        [
         "C046",
         "barbervicki@example.com",
         "Natalie Wilkins",
         "301-806-8998",
         "2024-07-04",
         "inactive"
        ],
        [
         "C047",
         "vlucas@example.com",
         "Rachel Alvarado",
         "+1-251-357-5325x69098",
         "2024-10-11",
         "inactive"
        ],
        [
         "C048",
         "georgepaul@example.org",
         "Ashley Barron",
         "902.272.5932",
         "2024-11-20",
         "active"
        ],
        [
         "C049",
         "thompsonmonica@example.org",
         "Jesus Kane",
         "659-808-0700",
         "2024-09-14",
         "active"
        ],
        [
         "C050",
         "carlwatkins@example.net",
         "Lauren Murray",
         "4172936072",
         "2024-11-20",
         "inactive"
        ]
       ],
       "datasetInfos": [],
       "dbfsResultPath": null,
       "isJsonSchema": true,
       "metadata": {},
       "overflow": false,
       "plotOptions": {
        "customPlotOptions": {},
        "displayType": "table",
        "pivotAggregation": null,
        "pivotColumns": null,
        "xColumns": null,
        "yColumns": null
       },
       "removedWidgets": [],
       "schema": [
        {
         "metadata": "{}",
         "name": "customer_id",
         "type": "\"string\""
        },
        {
         "metadata": "{}",
         "name": "email",
         "type": "\"string\""
        },
        {
         "metadata": "{}",
         "name": "name",
         "type": "\"string\""
        },
        {
         "metadata": "{}",
         "name": "phone_number",
         "type": "\"string\""
        },
        {
         "metadata": "{}",
         "name": "signup_date",
         "type": "\"date\""
        },
        {
         "metadata": "{}",
         "name": "status",
         "type": "\"string\""
        }
       ],
       "type": "table"
      }
     },
     "output_type": "display_data"
    }
   ],
   "source": [
    "from pyspark.sql.functions import to_date  # Function to convert a column to date format\n",
    "from pyspark.sql.functions import col, to_timestamp  # col: Access DataFrame columns, to_timestamp: Convert to timestamp\n",
    "from pyspark.sql.functions import when, lit  # when: Conditional expressions, lit: Create literal column values\n",
    "\n",
    "# Define allowed statuses for filtering\n",
    "allowed_statuses = [\"active\", \"inactive\"]\n",
    "\n",
    "# Define email regex pattern to validate email addresses\n",
    "email_regex = r\"^[a-zA-Z0-9._%+-]+@[a-zA-Z0-9.-]+\\.[a-zA-Z]{2,}$\"\n",
    "\n",
    "# Validate email addresses:\n",
    "# If the 'email' column matches the regex, keep the email; otherwise, replace with \"NA\"\n",
    "customer_df = customer_df.withColumn(\n",
    "    \"email\",\n",
    "    when(customer_df[\"email\"].rlike(email_regex), customer_df[\"email\"]).otherwise(lit(\"NA\"))\n",
    ")\n",
    "\n",
    "# Filter rows to only include records where 'status' is either \"active\" or \"inactive\"\n",
    "customer_df = customer_df.filter(col(\"status\").isin(allowed_statuses))\n",
    "\n",
    "# Convert the 'signup_date' column to a proper date format (yyyy-MM-dd)\n",
    "customer_df = customer_df.withColumn(\"signup_date\", to_date(col(\"signup_date\"), \"yyyy-MM-dd\"))\n",
    "\n",
    "# Drop rows where 'customer_id', 'name', or 'email' contain null values\n",
    "customer_df = customer_df.na.drop(subset=[\"customer_id\", \"name\", \"email\"])\n",
    "\n",
    "# Display the resulting DataFrame\n",
    "display(customer_df)\n"
   ]
  },
  {
   "cell_type": "code",
   "execution_count": 0,
   "metadata": {
    "application/vnd.databricks.v1+cell": {
     "cellMetadata": {
      "byteLimit": 2048000,
      "rowLimit": 10000
     },
     "inputWidgets": {},
     "nuid": "8ffc9320-89e1-4b54-9ba6-7a53f8d54f48",
     "showTitle": false,
     "tableResultSettingsMap": {},
     "title": ""
    }
   },
   "outputs": [
    {
     "name": "stderr",
     "output_type": "stream",
     "text": [
      "/databricks/spark/python/pyspark/sql/dataframe.py:161: UserWarning: DataFrame constructor is internal. Do not directly use it.\n",
      "  warnings.warn(\"DataFrame constructor is internal. Do not directly use it.\")\n"
     ]
    },
    {
     "data": {
      "text/html": [
       "<style scoped>\n",
       "  .table-result-container {\n",
       "    max-height: 300px;\n",
       "    overflow: auto;\n",
       "  }\n",
       "  table, th, td {\n",
       "    border: 1px solid black;\n",
       "    border-collapse: collapse;\n",
       "  }\n",
       "  th, td {\n",
       "    padding: 5px;\n",
       "  }\n",
       "  th {\n",
       "    text-align: left;\n",
       "  }\n",
       "</style><div class='table-result-container'><table class='table-result'><thead style='background-color: white'><tr><th>check</th><th>check_level</th><th>check_status</th><th>constraint</th><th>constraint_status</th><th>constraint_message</th></tr></thead><tbody><tr><td>Customer Data Check</td><td>Error</td><td>Success</td><td>SizeConstraint(Size(None))</td><td>Success</td><td></td></tr><tr><td>Customer Data Check</td><td>Error</td><td>Success</td><td>CompletenessConstraint(Completeness(customer_id,None,None))</td><td>Success</td><td></td></tr><tr><td>Customer Data Check</td><td>Error</td><td>Success</td><td>CompletenessConstraint(Completeness(name,None,None))</td><td>Success</td><td></td></tr><tr><td>Customer Data Check</td><td>Error</td><td>Success</td><td>CompletenessConstraint(Completeness(email,None,None))</td><td>Success</td><td></td></tr><tr><td>Customer Data Check</td><td>Error</td><td>Success</td><td>CompletenessConstraint(Completeness(phone_number,None,None))</td><td>Success</td><td></td></tr><tr><td>Customer Data Check</td><td>Error</td><td>Success</td><td>CompletenessConstraint(Completeness(signup_date,None,None))</td><td>Success</td><td></td></tr><tr><td>Customer Data Check</td><td>Error</td><td>Success</td><td>ComplianceConstraint(Compliance(status contained in active,inactive,`status` IS NULL OR `status` IN ('active','inactive'),None,List(status),None))</td><td>Success</td><td></td></tr></tbody></table></div>"
      ]
     },
     "metadata": {
      "application/vnd.databricks.v1+output": {
       "addedWidgets": {},
       "aggData": [],
       "aggError": "",
       "aggOverflow": false,
       "aggSchema": [],
       "aggSeriesLimitReached": false,
       "aggType": "",
       "arguments": {},
       "columnCustomDisplayInfos": {},
       "data": [
        [
         "Customer Data Check",
         "Error",
         "Success",
         "SizeConstraint(Size(None))",
         "Success",
         ""
        ],
        [
         "Customer Data Check",
         "Error",
         "Success",
         "CompletenessConstraint(Completeness(customer_id,None,None))",
         "Success",
         ""
        ],
        [
         "Customer Data Check",
         "Error",
         "Success",
         "CompletenessConstraint(Completeness(name,None,None))",
         "Success",
         ""
        ],
        [
         "Customer Data Check",
         "Error",
         "Success",
         "CompletenessConstraint(Completeness(email,None,None))",
         "Success",
         ""
        ],
        [
         "Customer Data Check",
         "Error",
         "Success",
         "CompletenessConstraint(Completeness(phone_number,None,None))",
         "Success",
         ""
        ],
        [
         "Customer Data Check",
         "Error",
         "Success",
         "CompletenessConstraint(Completeness(signup_date,None,None))",
         "Success",
         ""
        ],
        [
         "Customer Data Check",
         "Error",
         "Success",
         "ComplianceConstraint(Compliance(status contained in active,inactive,`status` IS NULL OR `status` IN ('active','inactive'),None,List(status),None))",
         "Success",
         ""
        ]
       ],
       "datasetInfos": [],
       "dbfsResultPath": null,
       "isJsonSchema": true,
       "metadata": {},
       "overflow": false,
       "plotOptions": {
        "customPlotOptions": {},
        "displayType": "table",
        "pivotAggregation": null,
        "pivotColumns": null,
        "xColumns": null,
        "yColumns": null
       },
       "removedWidgets": [],
       "schema": [
        {
         "metadata": "{}",
         "name": "check",
         "type": "\"string\""
        },
        {
         "metadata": "{}",
         "name": "check_level",
         "type": "\"string\""
        },
        {
         "metadata": "{}",
         "name": "check_status",
         "type": "\"string\""
        },
        {
         "metadata": "{}",
         "name": "constraint",
         "type": "\"string\""
        },
        {
         "metadata": "{}",
         "name": "constraint_status",
         "type": "\"string\""
        },
        {
         "metadata": "{}",
         "name": "constraint_message",
         "type": "\"string\""
        }
       ],
       "type": "table"
      }
     },
     "output_type": "display_data"
    }
   ],
   "source": [
    "# Import necessary classes for data quality checks\n",
    "# Check: Defines the checks to validate data\n",
    "# CheckLevel: Severity level of the checks (e.g., Error)\n",
    "# VerificationSuite: Executes the checks on the provided data\n",
    "# VerificationResult: Formats and extracts results of the checks\n",
    "# Define a data quality check for customer data\n",
    "# 'CheckLevel.Error' ensures that any check failure will be treated as an error\n",
    "check_customer = Check(spark, CheckLevel.Error, \"Customer Data Check\") \\\n",
    "    .hasSize(lambda x: x > 0) \\  # Check that the DataFrame has at least one row\n",
    "    .isComplete(\"customer_id\", hint=\"Customer ID is missing\") \\  # Ensure 'customer_id' column has no nulls\n",
    "    .isComplete(\"name\", hint=\"Customer name is missing\") \\       # Ensure 'name' column has no nulls\n",
    "    .isComplete(\"email\", hint=\"Email address is missing\") \\      # Ensure 'email' column has no nulls\n",
    "    .isComplete(\"phone_number\", hint=\"Phone number is missing\") \\  # Ensure 'phone_number' column has no nulls\n",
    "    .isComplete(\"signup_date\", hint=\"Signup date is missing\") \\    # Ensure 'signup_date' column has no nulls\n",
    "    .isContainedIn(\"status\", allowed_statuses, hint=\"Status value is invalid\")  # Check 'status' values are valid\n",
    "\n",
    "# Run the verification suite on the 'customer_df' DataFrame\n",
    "# Adds the defined checks and executes them\n",
    "customer_dq_check = VerificationSuite(spark) \\\n",
    "    .onData(customer_df) \\    # Specify the DataFrame to validate\n",
    "    .addCheck(check_customer) \\  # Add the customer data check defined above\n",
    "    .run()  # Run the verification suite\n",
    "\n",
    "# Convert the verification results into a DataFrame for easier readability and display\n",
    "customer_dq_check_df = VerificationResult.checkResultsAsDataFrame(spark, customer_dq_check)\n",
    "display(customer_dq_check_df)  # Display the check results\n",
    "\n",
    "# Check if the verification status is successful; raise an error if not\n",
    "if customer_dq_check.status != \"Success\":\n",
    "    raise ValueError(\"Data Quality Checks Failed for Booking Data\")\n"
   ]
  },
  {
   "cell_type": "code",
   "execution_count": 0,
   "metadata": {
    "application/vnd.databricks.v1+cell": {
     "cellMetadata": {
      "byteLimit": 2048000,
      "rowLimit": 10000
     },
     "inputWidgets": {},
     "nuid": "fe848932-6c94-456a-a0ed-ed656965ae42",
     "showTitle": false,
     "tableResultSettingsMap": {},
     "title": ""
    }
   },
   "outputs": [],
   "source": [
    "from pyspark.sql.functions import col, lit, to_date, datediff\n",
    "\n",
    "customer_df = customer_df.withColumnRenamed(\"status\", \"customer_status\")\n",
    "customer_df = customer_df.withColumn(\"days_difference\",\n",
    "    datediff(to_date(lit(date_str), \"yyyyMMdd\"), to_date(col(\"signup_date\"), \"yyyy-MM-dd\"))\n",
    ")"
   ]
  },
  {
   "cell_type": "code",
   "execution_count": 0,
   "metadata": {
    "application/vnd.databricks.v1+cell": {
     "cellMetadata": {
      "byteLimit": 2048000,
      "rowLimit": 10000
     },
     "inputWidgets": {},
     "nuid": "a21078af-8ea1-4bbf-9038-3c13e2e6a2ed",
     "showTitle": false,
     "tableResultSettingsMap": {},
     "title": ""
    }
   },
   "outputs": [
    {
     "data": {
      "text/html": [
       "<style scoped>\n",
       "  .table-result-container {\n",
       "    max-height: 300px;\n",
       "    overflow: auto;\n",
       "  }\n",
       "  table, th, td {\n",
       "    border: 1px solid black;\n",
       "    border-collapse: collapse;\n",
       "  }\n",
       "  th, td {\n",
       "    padding: 5px;\n",
       "  }\n",
       "  th {\n",
       "    text-align: left;\n",
       "  }\n",
       "</style><div class='table-result-container'><table class='table-result'><thead style='background-color: white'><tr><th>customer_id</th><th>email</th><th>name</th><th>phone_number</th><th>signup_date</th><th>customer_status</th><th>days_difference</th></tr></thead><tbody><tr><td>C001</td><td>apayne@example.net</td><td>Glenn Jones</td><td>618-241-0939x81956</td><td>2024-03-05</td><td>active</td><td>263</td></tr><tr><td>C002</td><td>bridgesjennifer@example.net</td><td>Michele Munoz</td><td>285-336-1207x9689</td><td>2024-02-15</td><td>inactive</td><td>282</td></tr><tr><td>C003</td><td>romerogordon@example.net</td><td>Valerie Huff</td><td>(670)616-8784x73073</td><td>2024-07-05</td><td>inactive</td><td>141</td></tr><tr><td>C004</td><td>kiarathompson@example.org</td><td>Monica Gill</td><td>001-407-657-1726x534</td><td>2024-10-09</td><td>inactive</td><td>45</td></tr><tr><td>C005</td><td>matthewjohnson@example.com</td><td>Zachary Duncan</td><td>851-526-0178x89130</td><td>2024-07-17</td><td>active</td><td>129</td></tr><tr><td>C006</td><td>johnwatson@example.org</td><td>Jodi Warren</td><td>001-785-217-8761x97316</td><td>2024-06-09</td><td>active</td><td>167</td></tr><tr><td>C007</td><td>jameslee@example.net</td><td>Sarah Rasmussen</td><td>(925)374-1133</td><td>2024-11-08</td><td>active</td><td>15</td></tr><tr><td>C008</td><td>stevenfoster@example.com</td><td>Scott Bryan</td><td>001-582-200-7910x726</td><td>2024-06-29</td><td>inactive</td><td>147</td></tr><tr><td>C009</td><td>christopher01@example.org</td><td>Beth Pham</td><td>(322)406-2179</td><td>2024-05-15</td><td>inactive</td><td>192</td></tr><tr><td>C010</td><td>xbradley@example.org</td><td>Madeline Good</td><td>5866919138</td><td>2024-03-07</td><td>active</td><td>261</td></tr><tr><td>C011</td><td>megan49@example.com</td><td>Kimberly Robinson</td><td>001-339-783-5568</td><td>2024-01-01</td><td>inactive</td><td>327</td></tr><tr><td>C012</td><td>nancywarner@example.net</td><td>Eric Costa</td><td>335-827-3312x0602</td><td>2024-01-04</td><td>inactive</td><td>324</td></tr><tr><td>C013</td><td>andersonjames@example.com</td><td>Angela Colon</td><td>420-390-6481x41027</td><td>2024-09-13</td><td>inactive</td><td>71</td></tr><tr><td>C014</td><td>folson@example.com</td><td>William Porter</td><td>649-401-1119x769</td><td>2024-07-04</td><td>inactive</td><td>142</td></tr><tr><td>C015</td><td>uburch@example.net</td><td>Jessica Poole</td><td>(280)683-5642</td><td>2024-02-18</td><td>inactive</td><td>279</td></tr><tr><td>C016</td><td>ballkatherine@example.com</td><td>Rhonda Clark</td><td>9423440742</td><td>2024-07-26</td><td>inactive</td><td>120</td></tr><tr><td>C017</td><td>carterallison@example.net</td><td>Gabriela Ellis</td><td>(486)301-1724x467</td><td>2024-06-17</td><td>inactive</td><td>159</td></tr><tr><td>C018</td><td>butlertravis@example.org</td><td>David Garcia</td><td>630-644-2871</td><td>2024-09-14</td><td>inactive</td><td>70</td></tr><tr><td>C019</td><td>amanda82@example.net</td><td>Annette Lucas</td><td>819.444.8124</td><td>2024-08-26</td><td>inactive</td><td>89</td></tr><tr><td>C020</td><td>baileydavid@example.org</td><td>Russell Holmes</td><td>(409)523-1266x0997</td><td>2024-10-06</td><td>inactive</td><td>48</td></tr><tr><td>C021</td><td>ariel27@example.net</td><td>Mary Campbell</td><td>386-867-8415x3243</td><td>2024-05-20</td><td>inactive</td><td>187</td></tr><tr><td>C022</td><td>bradley85@example.net</td><td>Joseph Smith</td><td>536.387.1506</td><td>2024-04-11</td><td>inactive</td><td>226</td></tr><tr><td>C023</td><td>andrewcoleman@example.com</td><td>Samantha Morton</td><td>+1-796-266-9366x6250</td><td>2024-01-04</td><td>active</td><td>324</td></tr><tr><td>C024</td><td>jenna12@example.com</td><td>Shannon Hernandez</td><td>+1-498-823-8924x580</td><td>2024-06-02</td><td>active</td><td>174</td></tr><tr><td>C025</td><td>mendozacrystal@example.org</td><td>Judith Cox</td><td>001-858-274-7141x04626</td><td>2024-02-11</td><td>inactive</td><td>286</td></tr><tr><td>C026</td><td>amanda12@example.com</td><td>Brandon White</td><td>(233)410-3389x12716</td><td>2024-08-23</td><td>inactive</td><td>92</td></tr><tr><td>C027</td><td>michaellong@example.net</td><td>Kelsey Smith</td><td>935-268-0971x192</td><td>2024-10-19</td><td>active</td><td>35</td></tr><tr><td>C028</td><td>wparker@example.org</td><td>Christina Pruitt</td><td>910.536.8491</td><td>2024-10-19</td><td>inactive</td><td>35</td></tr><tr><td>C029</td><td>stacy31@example.org</td><td>Tracy Castro</td><td>001-736-756-8240x380</td><td>2024-07-02</td><td>inactive</td><td>144</td></tr><tr><td>C030</td><td>christina59@example.com</td><td>Mary Ramirez</td><td>260.340.2899x1236</td><td>2024-01-02</td><td>active</td><td>326</td></tr><tr><td>C031</td><td>latoyakramer@example.net</td><td>Justin Brown</td><td>727.250.8960x1845</td><td>2024-04-27</td><td>inactive</td><td>210</td></tr><tr><td>C032</td><td>michelle11@example.org</td><td>Patrick Lopez</td><td>565-801-4677x917</td><td>2024-05-03</td><td>inactive</td><td>204</td></tr><tr><td>C033</td><td>mendezpatrick@example.org</td><td>Stephen Cobb</td><td>+1-317-588-3500x407</td><td>2024-01-23</td><td>inactive</td><td>305</td></tr><tr><td>C034</td><td>amanda09@example.com</td><td>Sarah Quinn</td><td>001-431-895-7194x702</td><td>2024-09-27</td><td>inactive</td><td>57</td></tr><tr><td>C035</td><td>taylor57@example.com</td><td>Joseph Mooney</td><td>+1-677-235-2471</td><td>2024-07-08</td><td>active</td><td>138</td></tr><tr><td>C036</td><td>villatodd@example.net</td><td>Cassandra Hughes</td><td>255-370-7356</td><td>2024-11-10</td><td>active</td><td>13</td></tr><tr><td>C037</td><td>wjohnson@example.org</td><td>Wyatt Martin</td><td>615-541-3540</td><td>2024-09-12</td><td>inactive</td><td>72</td></tr><tr><td>C038</td><td>cassandrajohnston@example.org</td><td>Thomas Rivas</td><td>576-653-9415x28577</td><td>2024-07-27</td><td>active</td><td>119</td></tr><tr><td>C039</td><td>probinson@example.com</td><td>Kathy Gonzales</td><td>641-706-9835</td><td>2024-01-17</td><td>inactive</td><td>311</td></tr><tr><td>C040</td><td>aaron13@example.com</td><td>Elizabeth Davis</td><td>292-322-8637x4446</td><td>2024-07-12</td><td>inactive</td><td>134</td></tr><tr><td>C041</td><td>frank23@example.org</td><td>Michelle Cain</td><td>785-961-2438x39192</td><td>2024-07-28</td><td>inactive</td><td>118</td></tr><tr><td>C042</td><td>barberthomas@example.com</td><td>Robert Lopez</td><td>457-990-2381</td><td>2024-08-06</td><td>inactive</td><td>109</td></tr><tr><td>C043</td><td>adamherring@example.org</td><td>Kristin Wilson</td><td>001-517-771-6842x913</td><td>2024-02-24</td><td>active</td><td>273</td></tr><tr><td>C044</td><td>courtneylewis@example.com</td><td>Vanessa Ramirez</td><td>001-763-514-6798x06723</td><td>2024-04-01</td><td>inactive</td><td>236</td></tr><tr><td>C045</td><td>cathy49@example.org</td><td>Brandon Choi</td><td>814.833.9192</td><td>2024-06-01</td><td>inactive</td><td>175</td></tr><tr><td>C046</td><td>barbervicki@example.com</td><td>Natalie Wilkins</td><td>301-806-8998</td><td>2024-07-04</td><td>inactive</td><td>142</td></tr><tr><td>C047</td><td>vlucas@example.com</td><td>Rachel Alvarado</td><td>+1-251-357-5325x69098</td><td>2024-10-11</td><td>inactive</td><td>43</td></tr><tr><td>C048</td><td>georgepaul@example.org</td><td>Ashley Barron</td><td>902.272.5932</td><td>2024-11-20</td><td>active</td><td>3</td></tr><tr><td>C049</td><td>thompsonmonica@example.org</td><td>Jesus Kane</td><td>659-808-0700</td><td>2024-09-14</td><td>active</td><td>70</td></tr><tr><td>C050</td><td>carlwatkins@example.net</td><td>Lauren Murray</td><td>4172936072</td><td>2024-11-20</td><td>inactive</td><td>3</td></tr></tbody></table></div>"
      ]
     },
     "metadata": {
      "application/vnd.databricks.v1+output": {
       "addedWidgets": {},
       "aggData": [],
       "aggError": "",
       "aggOverflow": false,
       "aggSchema": [],
       "aggSeriesLimitReached": false,
       "aggType": "",
       "arguments": {},
       "columnCustomDisplayInfos": {},
       "data": [
        [
         "C001",
         "apayne@example.net",
         "Glenn Jones",
         "618-241-0939x81956",
         "2024-03-05",
         "active",
         263
        ],
        [
         "C002",
         "bridgesjennifer@example.net",
         "Michele Munoz",
         "285-336-1207x9689",
         "2024-02-15",
         "inactive",
         282
        ],
        [
         "C003",
         "romerogordon@example.net",
         "Valerie Huff",
         "(670)616-8784x73073",
         "2024-07-05",
         "inactive",
         141
        ],
        [
         "C004",
         "kiarathompson@example.org",
         "Monica Gill",
         "001-407-657-1726x534",
         "2024-10-09",
         "inactive",
         45
        ],
        [
         "C005",
         "matthewjohnson@example.com",
         "Zachary Duncan",
         "851-526-0178x89130",
         "2024-07-17",
         "active",
         129
        ],
        [
         "C006",
         "johnwatson@example.org",
         "Jodi Warren",
         "001-785-217-8761x97316",
         "2024-06-09",
         "active",
         167
        ],
        [
         "C007",
         "jameslee@example.net",
         "Sarah Rasmussen",
         "(925)374-1133",
         "2024-11-08",
         "active",
         15
        ],
        [
         "C008",
         "stevenfoster@example.com",
         "Scott Bryan",
         "001-582-200-7910x726",
         "2024-06-29",
         "inactive",
         147
        ],
        [
         "C009",
         "christopher01@example.org",
         "Beth Pham",
         "(322)406-2179",
         "2024-05-15",
         "inactive",
         192
        ],
        [
         "C010",
         "xbradley@example.org",
         "Madeline Good",
         "5866919138",
         "2024-03-07",
         "active",
         261
        ],
        [
         "C011",
         "megan49@example.com",
         "Kimberly Robinson",
         "001-339-783-5568",
         "2024-01-01",
         "inactive",
         327
        ],
        [
         "C012",
         "nancywarner@example.net",
         "Eric Costa",
         "335-827-3312x0602",
         "2024-01-04",
         "inactive",
         324
        ],
        [
         "C013",
         "andersonjames@example.com",
         "Angela Colon",
         "420-390-6481x41027",
         "2024-09-13",
         "inactive",
         71
        ],
        [
         "C014",
         "folson@example.com",
         "William Porter",
         "649-401-1119x769",
         "2024-07-04",
         "inactive",
         142
        ],
        [
         "C015",
         "uburch@example.net",
         "Jessica Poole",
         "(280)683-5642",
         "2024-02-18",
         "inactive",
         279
        ],
        [
         "C016",
         "ballkatherine@example.com",
         "Rhonda Clark",
         "9423440742",
         "2024-07-26",
         "inactive",
         120
        ],
        [
         "C017",
         "carterallison@example.net",
         "Gabriela Ellis",
         "(486)301-1724x467",
         "2024-06-17",
         "inactive",
         159
        ],
        [
         "C018",
         "butlertravis@example.org",
         "David Garcia",
         "630-644-2871",
         "2024-09-14",
         "inactive",
         70
        ],
        [
         "C019",
         "amanda82@example.net",
         "Annette Lucas",
         "819.444.8124",
         "2024-08-26",
         "inactive",
         89
        ],
        [
         "C020",
         "baileydavid@example.org",
         "Russell Holmes",
         "(409)523-1266x0997",
         "2024-10-06",
         "inactive",
         48
        ],
        [
         "C021",
         "ariel27@example.net",
         "Mary Campbell",
         "386-867-8415x3243",
         "2024-05-20",
         "inactive",
         187
        ],
        [
         "C022",
         "bradley85@example.net",
         "Joseph Smith",
         "536.387.1506",
         "2024-04-11",
         "inactive",
         226
        ],
        [
         "C023",
         "andrewcoleman@example.com",
         "Samantha Morton",
         "+1-796-266-9366x6250",
         "2024-01-04",
         "active",
         324
        ],
        [
         "C024",
         "jenna12@example.com",
         "Shannon Hernandez",
         "+1-498-823-8924x580",
         "2024-06-02",
         "active",
         174
        ],
        [
         "C025",
         "mendozacrystal@example.org",
         "Judith Cox",
         "001-858-274-7141x04626",
         "2024-02-11",
         "inactive",
         286
        ],
        [
         "C026",
         "amanda12@example.com",
         "Brandon White",
         "(233)410-3389x12716",
         "2024-08-23",
         "inactive",
         92
        ],
        [
         "C027",
         "michaellong@example.net",
         "Kelsey Smith",
         "935-268-0971x192",
         "2024-10-19",
         "active",
         35
        ],
        [
         "C028",
         "wparker@example.org",
         "Christina Pruitt",
         "910.536.8491",
         "2024-10-19",
         "inactive",
         35
        ],
        [
         "C029",
         "stacy31@example.org",
         "Tracy Castro",
         "001-736-756-8240x380",
         "2024-07-02",
         "inactive",
         144
        ],
        [
         "C030",
         "christina59@example.com",
         "Mary Ramirez",
         "260.340.2899x1236",
         "2024-01-02",
         "active",
         326
        ],
        [
         "C031",
         "latoyakramer@example.net",
         "Justin Brown",
         "727.250.8960x1845",
         "2024-04-27",
         "inactive",
         210
        ],
        [
         "C032",
         "michelle11@example.org",
         "Patrick Lopez",
         "565-801-4677x917",
         "2024-05-03",
         "inactive",
         204
        ],
        [
         "C033",
         "mendezpatrick@example.org",
         "Stephen Cobb",
         "+1-317-588-3500x407",
         "2024-01-23",
         "inactive",
         305
        ],
        [
         "C034",
         "amanda09@example.com",
         "Sarah Quinn",
         "001-431-895-7194x702",
         "2024-09-27",
         "inactive",
         57
        ],
        [
         "C035",
         "taylor57@example.com",
         "Joseph Mooney",
         "+1-677-235-2471",
         "2024-07-08",
         "active",
         138
        ],
        [
         "C036",
         "villatodd@example.net",
         "Cassandra Hughes",
         "255-370-7356",
         "2024-11-10",
         "active",
         13
        ],
        [
         "C037",
         "wjohnson@example.org",
         "Wyatt Martin",
         "615-541-3540",
         "2024-09-12",
         "inactive",
         72
        ],
        [
         "C038",
         "cassandrajohnston@example.org",
         "Thomas Rivas",
         "576-653-9415x28577",
         "2024-07-27",
         "active",
         119
        ],
        [
         "C039",
         "probinson@example.com",
         "Kathy Gonzales",
         "641-706-9835",
         "2024-01-17",
         "inactive",
         311
        ],
        [
         "C040",
         "aaron13@example.com",
         "Elizabeth Davis",
         "292-322-8637x4446",
         "2024-07-12",
         "inactive",
         134
        ],
        [
         "C041",
         "frank23@example.org",
         "Michelle Cain",
         "785-961-2438x39192",
         "2024-07-28",
         "inactive",
         118
        ],
        [
         "C042",
         "barberthomas@example.com",
         "Robert Lopez",
         "457-990-2381",
         "2024-08-06",
         "inactive",
         109
        ],
        [
         "C043",
         "adamherring@example.org",
         "Kristin Wilson",
         "001-517-771-6842x913",
         "2024-02-24",
         "active",
         273
        ],
        [
         "C044",
         "courtneylewis@example.com",
         "Vanessa Ramirez",
         "001-763-514-6798x06723",
         "2024-04-01",
         "inactive",
         236
        ],
        [
         "C045",
         "cathy49@example.org",
         "Brandon Choi",
         "814.833.9192",
         "2024-06-01",
         "inactive",
         175
        ],
        [
         "C046",
         "barbervicki@example.com",
         "Natalie Wilkins",
         "301-806-8998",
         "2024-07-04",
         "inactive",
         142
        ],
        [
         "C047",
         "vlucas@example.com",
         "Rachel Alvarado",
         "+1-251-357-5325x69098",
         "2024-10-11",
         "inactive",
         43
        ],
        [
         "C048",
         "georgepaul@example.org",
         "Ashley Barron",
         "902.272.5932",
         "2024-11-20",
         "active",
         3
        ],
        [
         "C049",
         "thompsonmonica@example.org",
         "Jesus Kane",
         "659-808-0700",
         "2024-09-14",
         "active",
         70
        ],
        [
         "C050",
         "carlwatkins@example.net",
         "Lauren Murray",
         "4172936072",
         "2024-11-20",
         "inactive",
         3
        ]
       ],
       "datasetInfos": [],
       "dbfsResultPath": null,
       "isJsonSchema": true,
       "metadata": {},
       "overflow": false,
       "plotOptions": {
        "customPlotOptions": {},
        "displayType": "table",
        "pivotAggregation": null,
        "pivotColumns": null,
        "xColumns": null,
        "yColumns": null
       },
       "removedWidgets": [],
       "schema": [
        {
         "metadata": "{}",
         "name": "customer_id",
         "type": "\"string\""
        },
        {
         "metadata": "{}",
         "name": "email",
         "type": "\"string\""
        },
        {
         "metadata": "{}",
         "name": "name",
         "type": "\"string\""
        },
        {
         "metadata": "{}",
         "name": "phone_number",
         "type": "\"string\""
        },
        {
         "metadata": "{}",
         "name": "signup_date",
         "type": "\"date\""
        },
        {
         "metadata": "{}",
         "name": "customer_status",
         "type": "\"string\""
        },
        {
         "metadata": "{}",
         "name": "days_difference",
         "type": "\"integer\""
        }
       ],
       "type": "table"
      }
     },
     "output_type": "display_data"
    }
   ],
   "source": [
    "display(customer_df)"
   ]
  },
  {
   "cell_type": "code",
   "execution_count": 0,
   "metadata": {
    "application/vnd.databricks.v1+cell": {
     "cellMetadata": {
      "byteLimit": 2048000,
      "implicitDf": true,
      "rowLimit": 10000
     },
     "inputWidgets": {},
     "nuid": "7a6e7b16-832a-4804-955e-c19e3162e9bf",
     "showTitle": false,
     "tableResultSettingsMap": {},
     "title": ""
    }
   },
   "outputs": [
    {
     "data": {
      "text/html": [
       "<style scoped>\n",
       "  .table-result-container {\n",
       "    max-height: 300px;\n",
       "    overflow: auto;\n",
       "  }\n",
       "  table, th, td {\n",
       "    border: 1px solid black;\n",
       "    border-collapse: collapse;\n",
       "  }\n",
       "  th, td {\n",
       "    padding: 5px;\n",
       "  }\n",
       "  th {\n",
       "    text-align: left;\n",
       "  }\n",
       "</style><div class='table-result-container'><table class='table-result'><thead style='background-color: white'><tr></tr></thead><tbody></tbody></table></div>"
      ]
     },
     "metadata": {
      "application/vnd.databricks.v1+output": {
       "addedWidgets": {},
       "aggData": [],
       "aggError": "",
       "aggOverflow": false,
       "aggSchema": [],
       "aggSeriesLimitReached": false,
       "aggType": "",
       "arguments": {},
       "columnCustomDisplayInfos": {},
       "data": [],
       "datasetInfos": [],
       "dbfsResultPath": null,
       "isJsonSchema": true,
       "metadata": {
        "dataframeName": null
       },
       "overflow": false,
       "plotOptions": {
        "customPlotOptions": {},
        "displayType": "table",
        "pivotAggregation": null,
        "pivotColumns": null,
        "xColumns": null,
        "yColumns": null
       },
       "removedWidgets": [],
       "schema": [],
       "type": "table"
      }
     },
     "output_type": "display_data"
    }
   ],
   "source": [
    "%sql\n",
    "CREATE DATABASE IF NOT EXISTS zoom"
   ]
  },
  {
   "cell_type": "code",
   "execution_count": 0,
   "metadata": {
    "application/vnd.databricks.v1+cell": {
     "cellMetadata": {
      "byteLimit": 2048000,
      "rowLimit": 10000
     },
     "inputWidgets": {},
     "nuid": "e0ed53d5-5694-4f2b-9d65-56be62f06adb",
     "showTitle": false,
     "tableResultSettingsMap": {},
     "title": ""
    }
   },
   "outputs": [],
   "source": [
    "booking_table_name = \"databricks2.zoom.zoom_staging_customer_delta\"\n",
    "\n",
    "# Check if the table exists\n",
    "if not spark.catalog._jcatalog.tableExists(booking_table_name):\n",
    "    # If the table does not exist, write the DataFrame as a new Delta table\n",
    "    customer_df.write.format(\"delta\").saveAsTable(booking_table_name)\n",
    "else:\n",
    "    # If the table exists, append the new data\n",
    "    customer_df.write.format(\"delta\").mode(\"append\").saveAsTable(booking_table_name)\n"
   ]
  },
  {
   "cell_type": "code",
   "execution_count": 0,
   "metadata": {
    "application/vnd.databricks.v1+cell": {
     "cellMetadata": {
      "byteLimit": 2048000,
      "implicitDf": true,
      "rowLimit": 10000
     },
     "inputWidgets": {},
     "nuid": "33c394a1-0ca9-4557-86f1-0395e0327ab8",
     "showTitle": false,
     "tableResultSettingsMap": {},
     "title": ""
    }
   },
   "outputs": [],
   "source": [
    "%sql\n",
    "--%sql\n",
    "--DROP TABLE IF EXISTS databricks2.default.zoom_staging_customer_delta"
   ]
  },
  {
   "cell_type": "code",
   "execution_count": 0,
   "metadata": {
    "application/vnd.databricks.v1+cell": {
     "cellMetadata": {},
     "inputWidgets": {},
     "nuid": "980559eb-f076-42d2-98e6-099e12ba9aae",
     "showTitle": false,
     "tableResultSettingsMap": {},
     "title": ""
    }
   },
   "outputs": [],
   "source": []
  }
 ],
 "metadata": {
  "application/vnd.databricks.v1+notebook": {
   "dashboards": [],
   "environmentMetadata": {
    "base_environment": "",
    "client": "1"
   },
   "language": "python",
   "notebookMetadata": {
    "mostRecentlyExecutedCommandWithImplicitDF": {
     "commandId": 1964952037718974,
     "dataframes": [
      "_sqldf"
     ]
    },
    "pythonIndentUnit": 4
   },
   "notebookName": "zoom_customer",
   "widgets": {}
  },
  "language_info": {
   "name": "python"
  }
 },
 "nbformat": 4,
 "nbformat_minor": 0
}
